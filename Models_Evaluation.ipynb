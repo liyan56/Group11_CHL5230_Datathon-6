{
  "nbformat": 4,
  "nbformat_minor": 0,
  "metadata": {
    "colab": {
      "provenance": [],
      "include_colab_link": true
    },
    "kernelspec": {
      "name": "python3",
      "display_name": "Python 3"
    },
    "language_info": {
      "name": "python"
    }
  },
  "cells": [
    {
      "cell_type": "markdown",
      "metadata": {
        "id": "view-in-github",
        "colab_type": "text"
      },
      "source": [
        "<a href=\"https://colab.research.google.com/github/liyan56/Group11_CHL5230_Datathon-6/blob/main/Models_Evaluation.ipynb\" target=\"_parent\"><img src=\"https://colab.research.google.com/assets/colab-badge.svg\" alt=\"Open In Colab\"/></a>"
      ]
    },
    {
      "cell_type": "code",
      "source": [
        " pip install category_encoders"
      ],
      "metadata": {
        "colab": {
          "base_uri": "https://localhost:8080/"
        },
        "id": "hkxLiL2gl81H",
        "outputId": "ba8dab62-deeb-49ef-f757-428a10037055"
      },
      "execution_count": null,
      "outputs": [
        {
          "output_type": "stream",
          "name": "stdout",
          "text": [
            "Collecting category_encoders\n",
            "  Downloading category_encoders-2.6.3-py2.py3-none-any.whl (81 kB)\n",
            "\u001b[?25l     \u001b[90m━━━━━━━━━━━━━━━━━━━━━━━━━━━━━━━━━━━━━━━━\u001b[0m \u001b[32m0.0/81.9 kB\u001b[0m \u001b[31m?\u001b[0m eta \u001b[36m-:--:--\u001b[0m\r\u001b[2K     \u001b[91m━━━━━━━━━━━━━━━━━━━━\u001b[0m\u001b[90m╺\u001b[0m\u001b[90m━━━━━━━━━━━━━━━━━━━\u001b[0m \u001b[32m41.0/81.9 kB\u001b[0m \u001b[31m1.1 MB/s\u001b[0m eta \u001b[36m0:00:01\u001b[0m\r\u001b[2K     \u001b[90m━━━━━━━━━━━━━━━━━━━━━━━━━━━━━━━━━━━━━━━━\u001b[0m \u001b[32m81.9/81.9 kB\u001b[0m \u001b[31m1.3 MB/s\u001b[0m eta \u001b[36m0:00:00\u001b[0m\n",
            "\u001b[?25hRequirement already satisfied: numpy>=1.14.0 in /usr/local/lib/python3.10/dist-packages (from category_encoders) (1.23.5)\n",
            "Requirement already satisfied: scikit-learn>=0.20.0 in /usr/local/lib/python3.10/dist-packages (from category_encoders) (1.2.2)\n",
            "Requirement already satisfied: scipy>=1.0.0 in /usr/local/lib/python3.10/dist-packages (from category_encoders) (1.11.4)\n",
            "Requirement already satisfied: statsmodels>=0.9.0 in /usr/local/lib/python3.10/dist-packages (from category_encoders) (0.14.0)\n",
            "Requirement already satisfied: pandas>=1.0.5 in /usr/local/lib/python3.10/dist-packages (from category_encoders) (1.5.3)\n",
            "Requirement already satisfied: patsy>=0.5.1 in /usr/local/lib/python3.10/dist-packages (from category_encoders) (0.5.3)\n",
            "Requirement already satisfied: python-dateutil>=2.8.1 in /usr/local/lib/python3.10/dist-packages (from pandas>=1.0.5->category_encoders) (2.8.2)\n",
            "Requirement already satisfied: pytz>=2020.1 in /usr/local/lib/python3.10/dist-packages (from pandas>=1.0.5->category_encoders) (2023.3.post1)\n",
            "Requirement already satisfied: six in /usr/local/lib/python3.10/dist-packages (from patsy>=0.5.1->category_encoders) (1.16.0)\n",
            "Requirement already satisfied: joblib>=1.1.1 in /usr/local/lib/python3.10/dist-packages (from scikit-learn>=0.20.0->category_encoders) (1.3.2)\n",
            "Requirement already satisfied: threadpoolctl>=2.0.0 in /usr/local/lib/python3.10/dist-packages (from scikit-learn>=0.20.0->category_encoders) (3.2.0)\n",
            "Requirement already satisfied: packaging>=21.3 in /usr/local/lib/python3.10/dist-packages (from statsmodels>=0.9.0->category_encoders) (23.2)\n",
            "Installing collected packages: category_encoders\n",
            "Successfully installed category_encoders-2.6.3\n"
          ]
        }
      ]
    },
    {
      "cell_type": "code",
      "source": [
        "#Upload the data file\n",
        "\n",
        "from google.colab import files\n",
        "import io\n",
        "dataset = files.upload()"
      ],
      "metadata": {
        "colab": {
          "base_uri": "https://localhost:8080/",
          "height": 73
        },
        "id": "mlwkr7chm2kh",
        "outputId": "ccca5645-f0cc-40a3-fa1a-e2ae652cb45c"
      },
      "execution_count": null,
      "outputs": [
        {
          "output_type": "display_data",
          "data": {
            "text/plain": [
              "<IPython.core.display.HTML object>"
            ],
            "text/html": [
              "\n",
              "     <input type=\"file\" id=\"files-abfb1310-e6d7-48d7-b627-58cadc0452fe\" name=\"files[]\" multiple disabled\n",
              "        style=\"border:none\" />\n",
              "     <output id=\"result-abfb1310-e6d7-48d7-b627-58cadc0452fe\">\n",
              "      Upload widget is only available when the cell has been executed in the\n",
              "      current browser session. Please rerun this cell to enable.\n",
              "      </output>\n",
              "      <script>// Copyright 2017 Google LLC\n",
              "//\n",
              "// Licensed under the Apache License, Version 2.0 (the \"License\");\n",
              "// you may not use this file except in compliance with the License.\n",
              "// You may obtain a copy of the License at\n",
              "//\n",
              "//      http://www.apache.org/licenses/LICENSE-2.0\n",
              "//\n",
              "// Unless required by applicable law or agreed to in writing, software\n",
              "// distributed under the License is distributed on an \"AS IS\" BASIS,\n",
              "// WITHOUT WARRANTIES OR CONDITIONS OF ANY KIND, either express or implied.\n",
              "// See the License for the specific language governing permissions and\n",
              "// limitations under the License.\n",
              "\n",
              "/**\n",
              " * @fileoverview Helpers for google.colab Python module.\n",
              " */\n",
              "(function(scope) {\n",
              "function span(text, styleAttributes = {}) {\n",
              "  const element = document.createElement('span');\n",
              "  element.textContent = text;\n",
              "  for (const key of Object.keys(styleAttributes)) {\n",
              "    element.style[key] = styleAttributes[key];\n",
              "  }\n",
              "  return element;\n",
              "}\n",
              "\n",
              "// Max number of bytes which will be uploaded at a time.\n",
              "const MAX_PAYLOAD_SIZE = 100 * 1024;\n",
              "\n",
              "function _uploadFiles(inputId, outputId) {\n",
              "  const steps = uploadFilesStep(inputId, outputId);\n",
              "  const outputElement = document.getElementById(outputId);\n",
              "  // Cache steps on the outputElement to make it available for the next call\n",
              "  // to uploadFilesContinue from Python.\n",
              "  outputElement.steps = steps;\n",
              "\n",
              "  return _uploadFilesContinue(outputId);\n",
              "}\n",
              "\n",
              "// This is roughly an async generator (not supported in the browser yet),\n",
              "// where there are multiple asynchronous steps and the Python side is going\n",
              "// to poll for completion of each step.\n",
              "// This uses a Promise to block the python side on completion of each step,\n",
              "// then passes the result of the previous step as the input to the next step.\n",
              "function _uploadFilesContinue(outputId) {\n",
              "  const outputElement = document.getElementById(outputId);\n",
              "  const steps = outputElement.steps;\n",
              "\n",
              "  const next = steps.next(outputElement.lastPromiseValue);\n",
              "  return Promise.resolve(next.value.promise).then((value) => {\n",
              "    // Cache the last promise value to make it available to the next\n",
              "    // step of the generator.\n",
              "    outputElement.lastPromiseValue = value;\n",
              "    return next.value.response;\n",
              "  });\n",
              "}\n",
              "\n",
              "/**\n",
              " * Generator function which is called between each async step of the upload\n",
              " * process.\n",
              " * @param {string} inputId Element ID of the input file picker element.\n",
              " * @param {string} outputId Element ID of the output display.\n",
              " * @return {!Iterable<!Object>} Iterable of next steps.\n",
              " */\n",
              "function* uploadFilesStep(inputId, outputId) {\n",
              "  const inputElement = document.getElementById(inputId);\n",
              "  inputElement.disabled = false;\n",
              "\n",
              "  const outputElement = document.getElementById(outputId);\n",
              "  outputElement.innerHTML = '';\n",
              "\n",
              "  const pickedPromise = new Promise((resolve) => {\n",
              "    inputElement.addEventListener('change', (e) => {\n",
              "      resolve(e.target.files);\n",
              "    });\n",
              "  });\n",
              "\n",
              "  const cancel = document.createElement('button');\n",
              "  inputElement.parentElement.appendChild(cancel);\n",
              "  cancel.textContent = 'Cancel upload';\n",
              "  const cancelPromise = new Promise((resolve) => {\n",
              "    cancel.onclick = () => {\n",
              "      resolve(null);\n",
              "    };\n",
              "  });\n",
              "\n",
              "  // Wait for the user to pick the files.\n",
              "  const files = yield {\n",
              "    promise: Promise.race([pickedPromise, cancelPromise]),\n",
              "    response: {\n",
              "      action: 'starting',\n",
              "    }\n",
              "  };\n",
              "\n",
              "  cancel.remove();\n",
              "\n",
              "  // Disable the input element since further picks are not allowed.\n",
              "  inputElement.disabled = true;\n",
              "\n",
              "  if (!files) {\n",
              "    return {\n",
              "      response: {\n",
              "        action: 'complete',\n",
              "      }\n",
              "    };\n",
              "  }\n",
              "\n",
              "  for (const file of files) {\n",
              "    const li = document.createElement('li');\n",
              "    li.append(span(file.name, {fontWeight: 'bold'}));\n",
              "    li.append(span(\n",
              "        `(${file.type || 'n/a'}) - ${file.size} bytes, ` +\n",
              "        `last modified: ${\n",
              "            file.lastModifiedDate ? file.lastModifiedDate.toLocaleDateString() :\n",
              "                                    'n/a'} - `));\n",
              "    const percent = span('0% done');\n",
              "    li.appendChild(percent);\n",
              "\n",
              "    outputElement.appendChild(li);\n",
              "\n",
              "    const fileDataPromise = new Promise((resolve) => {\n",
              "      const reader = new FileReader();\n",
              "      reader.onload = (e) => {\n",
              "        resolve(e.target.result);\n",
              "      };\n",
              "      reader.readAsArrayBuffer(file);\n",
              "    });\n",
              "    // Wait for the data to be ready.\n",
              "    let fileData = yield {\n",
              "      promise: fileDataPromise,\n",
              "      response: {\n",
              "        action: 'continue',\n",
              "      }\n",
              "    };\n",
              "\n",
              "    // Use a chunked sending to avoid message size limits. See b/62115660.\n",
              "    let position = 0;\n",
              "    do {\n",
              "      const length = Math.min(fileData.byteLength - position, MAX_PAYLOAD_SIZE);\n",
              "      const chunk = new Uint8Array(fileData, position, length);\n",
              "      position += length;\n",
              "\n",
              "      const base64 = btoa(String.fromCharCode.apply(null, chunk));\n",
              "      yield {\n",
              "        response: {\n",
              "          action: 'append',\n",
              "          file: file.name,\n",
              "          data: base64,\n",
              "        },\n",
              "      };\n",
              "\n",
              "      let percentDone = fileData.byteLength === 0 ?\n",
              "          100 :\n",
              "          Math.round((position / fileData.byteLength) * 100);\n",
              "      percent.textContent = `${percentDone}% done`;\n",
              "\n",
              "    } while (position < fileData.byteLength);\n",
              "  }\n",
              "\n",
              "  // All done.\n",
              "  yield {\n",
              "    response: {\n",
              "      action: 'complete',\n",
              "    }\n",
              "  };\n",
              "}\n",
              "\n",
              "scope.google = scope.google || {};\n",
              "scope.google.colab = scope.google.colab || {};\n",
              "scope.google.colab._files = {\n",
              "  _uploadFiles,\n",
              "  _uploadFilesContinue,\n",
              "};\n",
              "})(self);\n",
              "</script> "
            ]
          },
          "metadata": {}
        },
        {
          "output_type": "stream",
          "name": "stdout",
          "text": [
            "Saving Diabetes Study File 10K Dec 14 2017.xlsx to Diabetes Study File 10K Dec 14 2017.xlsx\n"
          ]
        }
      ]
    },
    {
      "cell_type": "code",
      "execution_count": null,
      "metadata": {
        "id": "RmALIXn_k63I"
      },
      "outputs": [],
      "source": [
        "#Load modules\n",
        "import pandas as pd\n",
        "import numpy as np\n",
        "\n",
        "import matplotlib.pyplot as plt\n",
        "import seaborn as sns\n",
        "import plotly.express as px\n",
        "\n",
        "#Modules for KNN\n",
        "from sklearn.model_selection import train_test_split\n",
        "from sklearn.preprocessing import StandardScaler, LabelEncoder\n",
        "from sklearn.neighbors import KNeighborsClassifier\n",
        "from sklearn.metrics import classification_report, confusion_matrix\n",
        "from sklearn.metrics import accuracy_score\n",
        "\n",
        "#Addition modules for Logistic Regression\n",
        "from sklearn.linear_model import LogisticRegression\n",
        "from sklearn.metrics import roc_auc_score, roc_curve\n",
        "from sklearn.preprocessing import StandardScaler\n",
        "\n",
        "#Addtiion modules for Naïve Bayes Classifier\n",
        "from sklearn.naive_bayes import CategoricalNB, GaussianNB, MultinomialNB\n",
        "from sklearn.discriminant_analysis import LinearDiscriminantAnalysis, QuadraticDiscriminantAnalysis\n",
        "from sklearn.metrics import RocCurveDisplay\n",
        "from sklearn.model_selection import GridSearchCV\n",
        "\n",
        "#Addtiion modules for Decision Tree\n",
        "from sklearn import tree\n",
        "from sklearn.ensemble import RandomForestClassifier\n",
        "from category_encoders import OneHotEncoder, TargetEncoder\n",
        "from sklearn.compose import ColumnTransformer\n",
        "from sklearn.pipeline import Pipeline\n",
        "from sklearn.model_selection import RandomizedSearchCV, StratifiedKFold\n",
        "from sklearn.ensemble import GradientBoostingClassifier\n",
        "\n",
        "#Additional modulues for Neural Networks\n",
        "# !pip install torch\n",
        "\n",
        "# importing torch as t\n",
        "import torch as t\n",
        "import numpy as np\n",
        "from torch.nn.functional import sigmoid, relu, tanh\n",
        "from torch.optim import Adam\n",
        "import matplotlib.pyplot as plt\n",
        "import pandas as pd\n",
        "from sklearn.preprocessing import StandardScaler\n",
        "from torch.utils.data import TensorDataset, DataLoader\n",
        "\n",
        "from torch.nn import Tanh, Linear, Sequential, Sigmoid, Dropout\n"
      ]
    },
    {
      "cell_type": "code",
      "source": [
        "#Obtain the detail of the dataset\n",
        "\n",
        "diabete_data = pd.read_excel(io.BytesIO(dataset['Diabetes Study File 10K Dec 14 2017.xlsx']))\n",
        "##Getting the shape of the dataframe\n",
        "print(diabete_data.shape)\n",
        "##List the columns of the dataframe\n",
        "print(diabete_data.columns)\n",
        "##Check for missing values in the dataset\n",
        "print(diabete_data.isna().sum())\n",
        "##Display the data types of each column\n",
        "diabete_data.dtypes\n",
        "##Display overall summary statistics\n",
        "print(diabete_data.describe())\n",
        "print(diabete_data['DIABETES'].value_counts())\n",
        "print(diabete_data['Sex'].value_counts())\n"
      ],
      "metadata": {
        "colab": {
          "base_uri": "https://localhost:8080/"
        },
        "id": "PyO9U2_Fl333",
        "outputId": "50cc6614-dd6e-4b69-feb9-c74580b0a24c"
      },
      "execution_count": null,
      "outputs": [
        {
          "output_type": "stream",
          "name": "stdout",
          "text": [
            "(10000, 43)\n",
            "Index(['Age_at_Exam', 'sBP', 'sBP_Date', 'BMI', 'BMI_Date', 'LDL', 'LDL_Date',\n",
            "       'HDL', 'HDL_Date', 'A1c', 'A1c_Date', 'TG', 'TG_Date', 'FBS',\n",
            "       'FBS_Date', 'FBS>DM', 'Total_Cholesterol', 'Total_Cholesterol_Lab_Date',\n",
            "       'Diabetes', 'DM_OnsetDate', 'Depression', 'Depression_OnsetDate', 'HTN',\n",
            "       'HTN_OnsetDate', 'OA', 'OA_OnsetDate', 'COPD', 'COPD_Date',\n",
            "       'Hypertension_Medications', 'Hypertension_Medications_First_Instance',\n",
            "       'Corticosteroids', 'Corticosteroids_first_instance', 'Sex',\n",
            "       'leastO(A1c_Date)', 'leastO(DM_OnsetDate)', 'leastO(FBS_Date)',\n",
            "       'LeastOfAll', 'A1C_BEF_DM', 'FBS_BEF_DM', 'Patient_ID',\n",
            "       'DM_Onset_Revised', 'DM_Onset_Revised_1YrPrior', 'DIABETES'],\n",
            "      dtype='object')\n",
            "Age_at_Exam                                   0\n",
            "sBP                                           4\n",
            "sBP_Date                                      0\n",
            "BMI                                           0\n",
            "BMI_Date                                      0\n",
            "LDL                                          61\n",
            "LDL_Date                                      0\n",
            "HDL                                          72\n",
            "HDL_Date                                     64\n",
            "A1c                                           0\n",
            "A1c_Date                                      0\n",
            "TG                                           53\n",
            "TG_Date                                      42\n",
            "FBS                                           0\n",
            "FBS_Date                                      0\n",
            "FBS>DM                                        0\n",
            "Total_Cholesterol                           207\n",
            "Total_Cholesterol_Lab_Date                  197\n",
            "Diabetes                                      0\n",
            "DM_OnsetDate                               4863\n",
            "Depression                                    0\n",
            "Depression_OnsetDate                       7884\n",
            "HTN                                           0\n",
            "HTN_OnsetDate                              3589\n",
            "OA                                            0\n",
            "OA_OnsetDate                               6860\n",
            "COPD                                          0\n",
            "COPD_Date                                  9014\n",
            "Hypertension_Medications                   2962\n",
            "Hypertension_Medications_First_Instance    2963\n",
            "Corticosteroids                            7145\n",
            "Corticosteroids_first_instance             7145\n",
            "Sex                                           0\n",
            "leastO(A1c_Date)                           4594\n",
            "leastO(DM_OnsetDate)                       4863\n",
            "leastO(FBS_Date)                           4589\n",
            "LeastOfAll                                 4863\n",
            "A1C_BEF_DM                                 4863\n",
            "FBS_BEF_DM                                 4863\n",
            "Patient_ID                                    0\n",
            "DM_Onset_Revised                           4863\n",
            "DM_Onset_Revised_1YrPrior                  4863\n",
            "DIABETES                                      0\n",
            "dtype: int64\n",
            "        Age_at_Exam          sBP           BMI          LDL          HDL  \\\n",
            "count  10000.000000  9996.000000  10000.000000  9939.000000  9928.000000   \n",
            "mean      63.197600   130.394358     30.415909     2.540959     1.321803   \n",
            "std       13.127627    17.018794      6.831567     0.949213     0.402217   \n",
            "min       18.000000    60.000000      1.376352     0.070000     0.160000   \n",
            "25%       54.000000   120.000000     25.898654     1.820000     1.040000   \n",
            "50%       64.000000   130.000000     29.300000     2.400000     1.250000   \n",
            "75%       73.000000   140.000000     33.790000     3.160000     1.540000   \n",
            "max       90.000000   229.000000     73.400000     8.630000     3.960000   \n",
            "\n",
            "                A1c           TG           FBS        FBS>DM  \\\n",
            "count  10000.000000  9947.000000  10000.000000  10000.000000   \n",
            "mean       6.266754     1.553615      6.311903      0.922800   \n",
            "std        0.954380     1.021511      1.733209      0.266922   \n",
            "min        3.400000     0.240000      2.800000      0.000000   \n",
            "25%        5.700000     0.950000      5.200000      1.000000   \n",
            "50%        6.000000     1.320000      5.900000      1.000000   \n",
            "75%        6.600000     1.890000      6.900000      1.000000   \n",
            "max       14.300000    22.640000     23.500000      1.000000   \n",
            "\n",
            "       Total_Cholesterol      Diabetes    Depression           HTN  \\\n",
            "count        9793.000000  10000.000000  10000.000000  10000.000000   \n",
            "mean            4.558164      0.513900      0.212200      0.642400   \n",
            "std             1.136145      0.499832      0.408886      0.479317   \n",
            "min             0.000000      0.000000      0.000000      0.000000   \n",
            "25%             3.710000      0.000000      0.000000      0.000000   \n",
            "50%             4.450000      1.000000      0.000000      1.000000   \n",
            "75%             5.300000      1.000000      0.000000      1.000000   \n",
            "max            12.660000      1.000000      1.000000      1.000000   \n",
            "\n",
            "                 OA          COPD  leastO(A1c_Date)  leastO(DM_OnsetDate)  \\\n",
            "count  10000.000000  10000.000000       5406.000000           5137.000000   \n",
            "mean       0.315600      0.098600      41210.426193          40014.597820   \n",
            "std        0.464778      0.298139        723.369067           1021.388765   \n",
            "min        0.000000      0.000000      37966.000000          32509.000000   \n",
            "25%        0.000000      0.000000      40785.000000          39286.000000   \n",
            "50%        0.000000      0.000000      41402.000000          39944.000000   \n",
            "75%        1.000000      0.000000      41773.000000          40770.000000   \n",
            "max        1.000000      1.000000      42184.000000          42185.000000   \n",
            "\n",
            "       leastO(FBS_Date)    LeastOfAll    Patient_ID  \n",
            "count       5411.000000   5137.000000  1.000000e+04  \n",
            "mean       41125.007577  39943.999221  3.940949e+15  \n",
            "std          766.210873    971.454948  2.401364e+15  \n",
            "min        38023.000000  32509.000000  1.001000e+15  \n",
            "25%        40643.000000  39254.000000  2.001000e+15  \n",
            "50%        41298.000000  39918.000000  4.001000e+15  \n",
            "75%        41745.000000  40687.000000  4.001000e+15  \n",
            "max        42184.000000  42157.000000  1.000100e+16  \n",
            "Yes    5139\n",
            "No     4861\n",
            "Name: DIABETES, dtype: int64\n",
            "Female    5336\n",
            "Male      4664\n",
            "Name: Sex, dtype: int64\n"
          ]
        }
      ]
    },
    {
      "cell_type": "code",
      "source": [
        "#Clean data\n",
        "\n",
        "##Remove records with corticosteroids\n",
        "diabete_data_remove = diabete_data[diabete_data['Corticosteroids'].notna()]\n",
        "diabete_data = diabete_data.drop(diabete_data_remove.index)\n",
        "\n",
        "##Drop columns of data that cannot be used for analysis\n",
        "##i.e. Dates, Patient_ID\n",
        "diabete_data = diabete_data.drop(columns=['sBP_Date', 'BMI_Date', 'LDL_Date', 'HDL_Date', 'A1c_Date',\n",
        "                                          'TG_Date', 'FBS_Date', 'Total_Cholesterol_Lab_Date', 'DM_OnsetDate',\n",
        "                                          'Depression_OnsetDate', 'HTN_OnsetDate', 'OA_OnsetDate', 'COPD_Date',\n",
        "                                          'Hypertension_Medications', 'Hypertension_Medications_First_Instance',\n",
        "                                          'Corticosteroids', 'Corticosteroids_first_instance', 'Patient_ID',\n",
        "                                          'DM_Onset_Revised', 'DM_Onset_Revised_1YrPrior'])\n",
        "\n",
        "\n",
        "##Fill missing values with zero\n",
        "diabete_data['LDL'].fillna(0, inplace=True)\n",
        "diabete_data['HDL'].fillna(0, inplace=True)\n",
        "diabete_data['TG'].fillna(0, inplace=True)\n",
        "diabete_data['Total_Cholesterol'].fillna(0, inplace=True)\n",
        "diabete_data['sBP'].fillna(0, inplace=True)\n",
        "\n",
        "##Change catogorical value to numberical value\n",
        "le_gender = LabelEncoder()\n",
        "diabete_data['Sex'] = le_gender.fit_transform(diabete_data['Sex']) # Male: 1, Female: 0\n",
        "diabete_data['DIABETES'] = diabete_data['DIABETES'].replace({'Yes': 1, 'No': 0})\n",
        "\n",
        "##Drop the column that will not be used for analysis\n",
        "diabete_data = diabete_data.drop(columns=['leastO(A1c_Date)', 'leastO(DM_OnsetDate)', 'leastO(FBS_Date)',\n",
        "                                           'LeastOfAll', 'Diabetes', 'A1C_BEF_DM', 'FBS_BEF_DM'])\n",
        "\n",
        "##Checking for missing values\n",
        "print(diabete_data.describe())\n",
        "print(diabete_data.isnull().sum())\n",
        "print(diabete_data.describe())\n",
        "print(diabete_data['DIABETES'].value_counts())\n",
        "print(diabete_data['Sex'].value_counts())\n",
        "diabete_data.head()\n"
      ],
      "metadata": {
        "colab": {
          "base_uri": "https://localhost:8080/",
          "height": 1000
        },
        "id": "Hsratakcozlv",
        "outputId": "4a459455-850a-4419-cd1a-fc43b161206b"
      },
      "execution_count": null,
      "outputs": [
        {
          "output_type": "stream",
          "name": "stdout",
          "text": [
            "       Age_at_Exam          sBP          BMI          LDL          HDL  \\\n",
            "count  7145.000000  7145.000000  7145.000000  7145.000000  7145.000000   \n",
            "mean     62.533100   130.335759    30.265824     2.529479     1.308731   \n",
            "std      13.362675    17.232963     6.725638     0.968897     0.417871   \n",
            "min      18.000000     0.000000     1.376352     0.000000     0.000000   \n",
            "25%      53.000000   120.000000    25.800000     1.820000     1.030000   \n",
            "50%      63.000000   130.000000    29.200000     2.400000     1.240000   \n",
            "75%      72.000000   140.000000    33.600000     3.160000     1.540000   \n",
            "max      90.000000   229.000000    73.400000     8.630000     3.960000   \n",
            "\n",
            "               A1c           TG          FBS       FBS>DM  Total_Cholesterol  \\\n",
            "count  7145.000000  7145.000000  7145.000000  7145.000000         7145.00000   \n",
            "mean      6.269080     1.529600     6.338325     0.922323            4.45336   \n",
            "std       0.976932     1.014527     1.794325     0.267681            1.31194   \n",
            "min       3.600000     0.000000     3.100000     0.000000            0.00000   \n",
            "25%       5.700000     0.940000     5.200000     1.000000            3.66000   \n",
            "50%       6.000000     1.310000     5.900000     1.000000            4.42000   \n",
            "75%       6.600000     1.870000     6.900000     1.000000            5.29000   \n",
            "max      14.300000    20.810000    23.500000     1.000000           11.00000   \n",
            "\n",
            "        Depression          HTN           OA         COPD          Sex  \\\n",
            "count  7145.000000  7145.000000  7145.000000  7145.000000  7145.000000   \n",
            "mean      0.186004     0.622253     0.283555     0.074038     0.482295   \n",
            "std       0.389137     0.484858     0.450755     0.261851     0.499721   \n",
            "min       0.000000     0.000000     0.000000     0.000000     0.000000   \n",
            "25%       0.000000     0.000000     0.000000     0.000000     0.000000   \n",
            "50%       0.000000     1.000000     0.000000     0.000000     0.000000   \n",
            "75%       0.000000     1.000000     1.000000     0.000000     1.000000   \n",
            "max       1.000000     1.000000     1.000000     1.000000     1.000000   \n",
            "\n",
            "          DIABETES  \n",
            "count  7145.000000  \n",
            "mean      0.508747  \n",
            "std       0.499958  \n",
            "min       0.000000  \n",
            "25%       0.000000  \n",
            "50%       1.000000  \n",
            "75%       1.000000  \n",
            "max       1.000000  \n",
            "Age_at_Exam          0\n",
            "sBP                  0\n",
            "BMI                  0\n",
            "LDL                  0\n",
            "HDL                  0\n",
            "A1c                  0\n",
            "TG                   0\n",
            "FBS                  0\n",
            "FBS>DM               0\n",
            "Total_Cholesterol    0\n",
            "Depression           0\n",
            "HTN                  0\n",
            "OA                   0\n",
            "COPD                 0\n",
            "Sex                  0\n",
            "DIABETES             0\n",
            "dtype: int64\n",
            "       Age_at_Exam          sBP          BMI          LDL          HDL  \\\n",
            "count  7145.000000  7145.000000  7145.000000  7145.000000  7145.000000   \n",
            "mean     62.533100   130.335759    30.265824     2.529479     1.308731   \n",
            "std      13.362675    17.232963     6.725638     0.968897     0.417871   \n",
            "min      18.000000     0.000000     1.376352     0.000000     0.000000   \n",
            "25%      53.000000   120.000000    25.800000     1.820000     1.030000   \n",
            "50%      63.000000   130.000000    29.200000     2.400000     1.240000   \n",
            "75%      72.000000   140.000000    33.600000     3.160000     1.540000   \n",
            "max      90.000000   229.000000    73.400000     8.630000     3.960000   \n",
            "\n",
            "               A1c           TG          FBS       FBS>DM  Total_Cholesterol  \\\n",
            "count  7145.000000  7145.000000  7145.000000  7145.000000         7145.00000   \n",
            "mean      6.269080     1.529600     6.338325     0.922323            4.45336   \n",
            "std       0.976932     1.014527     1.794325     0.267681            1.31194   \n",
            "min       3.600000     0.000000     3.100000     0.000000            0.00000   \n",
            "25%       5.700000     0.940000     5.200000     1.000000            3.66000   \n",
            "50%       6.000000     1.310000     5.900000     1.000000            4.42000   \n",
            "75%       6.600000     1.870000     6.900000     1.000000            5.29000   \n",
            "max      14.300000    20.810000    23.500000     1.000000           11.00000   \n",
            "\n",
            "        Depression          HTN           OA         COPD          Sex  \\\n",
            "count  7145.000000  7145.000000  7145.000000  7145.000000  7145.000000   \n",
            "mean      0.186004     0.622253     0.283555     0.074038     0.482295   \n",
            "std       0.389137     0.484858     0.450755     0.261851     0.499721   \n",
            "min       0.000000     0.000000     0.000000     0.000000     0.000000   \n",
            "25%       0.000000     0.000000     0.000000     0.000000     0.000000   \n",
            "50%       0.000000     1.000000     0.000000     0.000000     0.000000   \n",
            "75%       0.000000     1.000000     1.000000     0.000000     1.000000   \n",
            "max       1.000000     1.000000     1.000000     1.000000     1.000000   \n",
            "\n",
            "          DIABETES  \n",
            "count  7145.000000  \n",
            "mean      0.508747  \n",
            "std       0.499958  \n",
            "min       0.000000  \n",
            "25%       0.000000  \n",
            "50%       1.000000  \n",
            "75%       1.000000  \n",
            "max       1.000000  \n",
            "1    3635\n",
            "0    3510\n",
            "Name: DIABETES, dtype: int64\n",
            "0    3699\n",
            "1    3446\n",
            "Name: Sex, dtype: int64\n"
          ]
        },
        {
          "output_type": "execute_result",
          "data": {
            "text/plain": [
              "   Age_at_Exam    sBP        BMI   LDL   HDL  A1c    TG  FBS  FBS>DM  \\\n",
              "0           65  126.0  31.000000  1.66  1.11  5.4  2.28  5.8       1   \n",
              "1           62  135.0  25.846483  2.49  1.37  5.8  1.37  5.4       1   \n",
              "2           63  133.0  30.900000  1.65  0.00  6.1  0.76  5.6       1   \n",
              "3           51  136.0  56.710775  2.80  1.94  6.0  0.99  6.0       1   \n",
              "4           40  123.0  33.067867  2.48  1.17  5.8  1.04  5.2       1   \n",
              "\n",
              "   Total_Cholesterol  Depression  HTN  OA  COPD  Sex  DIABETES  \n",
              "0               3.81           0    0   0     0    0         0  \n",
              "1               4.48           0    1   0     0    0         0  \n",
              "2               0.00           0    1   0     1    1         0  \n",
              "3               5.19           0    0   0     0    0         0  \n",
              "4               4.12           1    0   0     0    0         0  "
            ],
            "text/html": [
              "\n",
              "  <div id=\"df-0e13d21e-1647-4f10-b272-a8c323f29c97\" class=\"colab-df-container\">\n",
              "    <div>\n",
              "<style scoped>\n",
              "    .dataframe tbody tr th:only-of-type {\n",
              "        vertical-align: middle;\n",
              "    }\n",
              "\n",
              "    .dataframe tbody tr th {\n",
              "        vertical-align: top;\n",
              "    }\n",
              "\n",
              "    .dataframe thead th {\n",
              "        text-align: right;\n",
              "    }\n",
              "</style>\n",
              "<table border=\"1\" class=\"dataframe\">\n",
              "  <thead>\n",
              "    <tr style=\"text-align: right;\">\n",
              "      <th></th>\n",
              "      <th>Age_at_Exam</th>\n",
              "      <th>sBP</th>\n",
              "      <th>BMI</th>\n",
              "      <th>LDL</th>\n",
              "      <th>HDL</th>\n",
              "      <th>A1c</th>\n",
              "      <th>TG</th>\n",
              "      <th>FBS</th>\n",
              "      <th>FBS&gt;DM</th>\n",
              "      <th>Total_Cholesterol</th>\n",
              "      <th>Depression</th>\n",
              "      <th>HTN</th>\n",
              "      <th>OA</th>\n",
              "      <th>COPD</th>\n",
              "      <th>Sex</th>\n",
              "      <th>DIABETES</th>\n",
              "    </tr>\n",
              "  </thead>\n",
              "  <tbody>\n",
              "    <tr>\n",
              "      <th>0</th>\n",
              "      <td>65</td>\n",
              "      <td>126.0</td>\n",
              "      <td>31.000000</td>\n",
              "      <td>1.66</td>\n",
              "      <td>1.11</td>\n",
              "      <td>5.4</td>\n",
              "      <td>2.28</td>\n",
              "      <td>5.8</td>\n",
              "      <td>1</td>\n",
              "      <td>3.81</td>\n",
              "      <td>0</td>\n",
              "      <td>0</td>\n",
              "      <td>0</td>\n",
              "      <td>0</td>\n",
              "      <td>0</td>\n",
              "      <td>0</td>\n",
              "    </tr>\n",
              "    <tr>\n",
              "      <th>1</th>\n",
              "      <td>62</td>\n",
              "      <td>135.0</td>\n",
              "      <td>25.846483</td>\n",
              "      <td>2.49</td>\n",
              "      <td>1.37</td>\n",
              "      <td>5.8</td>\n",
              "      <td>1.37</td>\n",
              "      <td>5.4</td>\n",
              "      <td>1</td>\n",
              "      <td>4.48</td>\n",
              "      <td>0</td>\n",
              "      <td>1</td>\n",
              "      <td>0</td>\n",
              "      <td>0</td>\n",
              "      <td>0</td>\n",
              "      <td>0</td>\n",
              "    </tr>\n",
              "    <tr>\n",
              "      <th>2</th>\n",
              "      <td>63</td>\n",
              "      <td>133.0</td>\n",
              "      <td>30.900000</td>\n",
              "      <td>1.65</td>\n",
              "      <td>0.00</td>\n",
              "      <td>6.1</td>\n",
              "      <td>0.76</td>\n",
              "      <td>5.6</td>\n",
              "      <td>1</td>\n",
              "      <td>0.00</td>\n",
              "      <td>0</td>\n",
              "      <td>1</td>\n",
              "      <td>0</td>\n",
              "      <td>1</td>\n",
              "      <td>1</td>\n",
              "      <td>0</td>\n",
              "    </tr>\n",
              "    <tr>\n",
              "      <th>3</th>\n",
              "      <td>51</td>\n",
              "      <td>136.0</td>\n",
              "      <td>56.710775</td>\n",
              "      <td>2.80</td>\n",
              "      <td>1.94</td>\n",
              "      <td>6.0</td>\n",
              "      <td>0.99</td>\n",
              "      <td>6.0</td>\n",
              "      <td>1</td>\n",
              "      <td>5.19</td>\n",
              "      <td>0</td>\n",
              "      <td>0</td>\n",
              "      <td>0</td>\n",
              "      <td>0</td>\n",
              "      <td>0</td>\n",
              "      <td>0</td>\n",
              "    </tr>\n",
              "    <tr>\n",
              "      <th>4</th>\n",
              "      <td>40</td>\n",
              "      <td>123.0</td>\n",
              "      <td>33.067867</td>\n",
              "      <td>2.48</td>\n",
              "      <td>1.17</td>\n",
              "      <td>5.8</td>\n",
              "      <td>1.04</td>\n",
              "      <td>5.2</td>\n",
              "      <td>1</td>\n",
              "      <td>4.12</td>\n",
              "      <td>1</td>\n",
              "      <td>0</td>\n",
              "      <td>0</td>\n",
              "      <td>0</td>\n",
              "      <td>0</td>\n",
              "      <td>0</td>\n",
              "    </tr>\n",
              "  </tbody>\n",
              "</table>\n",
              "</div>\n",
              "    <div class=\"colab-df-buttons\">\n",
              "\n",
              "  <div class=\"colab-df-container\">\n",
              "    <button class=\"colab-df-convert\" onclick=\"convertToInteractive('df-0e13d21e-1647-4f10-b272-a8c323f29c97')\"\n",
              "            title=\"Convert this dataframe to an interactive table.\"\n",
              "            style=\"display:none;\">\n",
              "\n",
              "  <svg xmlns=\"http://www.w3.org/2000/svg\" height=\"24px\" viewBox=\"0 -960 960 960\">\n",
              "    <path d=\"M120-120v-720h720v720H120Zm60-500h600v-160H180v160Zm220 220h160v-160H400v160Zm0 220h160v-160H400v160ZM180-400h160v-160H180v160Zm440 0h160v-160H620v160ZM180-180h160v-160H180v160Zm440 0h160v-160H620v160Z\"/>\n",
              "  </svg>\n",
              "    </button>\n",
              "\n",
              "  <style>\n",
              "    .colab-df-container {\n",
              "      display:flex;\n",
              "      gap: 12px;\n",
              "    }\n",
              "\n",
              "    .colab-df-convert {\n",
              "      background-color: #E8F0FE;\n",
              "      border: none;\n",
              "      border-radius: 50%;\n",
              "      cursor: pointer;\n",
              "      display: none;\n",
              "      fill: #1967D2;\n",
              "      height: 32px;\n",
              "      padding: 0 0 0 0;\n",
              "      width: 32px;\n",
              "    }\n",
              "\n",
              "    .colab-df-convert:hover {\n",
              "      background-color: #E2EBFA;\n",
              "      box-shadow: 0px 1px 2px rgba(60, 64, 67, 0.3), 0px 1px 3px 1px rgba(60, 64, 67, 0.15);\n",
              "      fill: #174EA6;\n",
              "    }\n",
              "\n",
              "    .colab-df-buttons div {\n",
              "      margin-bottom: 4px;\n",
              "    }\n",
              "\n",
              "    [theme=dark] .colab-df-convert {\n",
              "      background-color: #3B4455;\n",
              "      fill: #D2E3FC;\n",
              "    }\n",
              "\n",
              "    [theme=dark] .colab-df-convert:hover {\n",
              "      background-color: #434B5C;\n",
              "      box-shadow: 0px 1px 3px 1px rgba(0, 0, 0, 0.15);\n",
              "      filter: drop-shadow(0px 1px 2px rgba(0, 0, 0, 0.3));\n",
              "      fill: #FFFFFF;\n",
              "    }\n",
              "  </style>\n",
              "\n",
              "    <script>\n",
              "      const buttonEl =\n",
              "        document.querySelector('#df-0e13d21e-1647-4f10-b272-a8c323f29c97 button.colab-df-convert');\n",
              "      buttonEl.style.display =\n",
              "        google.colab.kernel.accessAllowed ? 'block' : 'none';\n",
              "\n",
              "      async function convertToInteractive(key) {\n",
              "        const element = document.querySelector('#df-0e13d21e-1647-4f10-b272-a8c323f29c97');\n",
              "        const dataTable =\n",
              "          await google.colab.kernel.invokeFunction('convertToInteractive',\n",
              "                                                    [key], {});\n",
              "        if (!dataTable) return;\n",
              "\n",
              "        const docLinkHtml = 'Like what you see? Visit the ' +\n",
              "          '<a target=\"_blank\" href=https://colab.research.google.com/notebooks/data_table.ipynb>data table notebook</a>'\n",
              "          + ' to learn more about interactive tables.';\n",
              "        element.innerHTML = '';\n",
              "        dataTable['output_type'] = 'display_data';\n",
              "        await google.colab.output.renderOutput(dataTable, element);\n",
              "        const docLink = document.createElement('div');\n",
              "        docLink.innerHTML = docLinkHtml;\n",
              "        element.appendChild(docLink);\n",
              "      }\n",
              "    </script>\n",
              "  </div>\n",
              "\n",
              "\n",
              "<div id=\"df-6f143f63-1964-45e7-aed2-dae8feec2eaa\">\n",
              "  <button class=\"colab-df-quickchart\" onclick=\"quickchart('df-6f143f63-1964-45e7-aed2-dae8feec2eaa')\"\n",
              "            title=\"Suggest charts\"\n",
              "            style=\"display:none;\">\n",
              "\n",
              "<svg xmlns=\"http://www.w3.org/2000/svg\" height=\"24px\"viewBox=\"0 0 24 24\"\n",
              "     width=\"24px\">\n",
              "    <g>\n",
              "        <path d=\"M19 3H5c-1.1 0-2 .9-2 2v14c0 1.1.9 2 2 2h14c1.1 0 2-.9 2-2V5c0-1.1-.9-2-2-2zM9 17H7v-7h2v7zm4 0h-2V7h2v10zm4 0h-2v-4h2v4z\"/>\n",
              "    </g>\n",
              "</svg>\n",
              "  </button>\n",
              "\n",
              "<style>\n",
              "  .colab-df-quickchart {\n",
              "      --bg-color: #E8F0FE;\n",
              "      --fill-color: #1967D2;\n",
              "      --hover-bg-color: #E2EBFA;\n",
              "      --hover-fill-color: #174EA6;\n",
              "      --disabled-fill-color: #AAA;\n",
              "      --disabled-bg-color: #DDD;\n",
              "  }\n",
              "\n",
              "  [theme=dark] .colab-df-quickchart {\n",
              "      --bg-color: #3B4455;\n",
              "      --fill-color: #D2E3FC;\n",
              "      --hover-bg-color: #434B5C;\n",
              "      --hover-fill-color: #FFFFFF;\n",
              "      --disabled-bg-color: #3B4455;\n",
              "      --disabled-fill-color: #666;\n",
              "  }\n",
              "\n",
              "  .colab-df-quickchart {\n",
              "    background-color: var(--bg-color);\n",
              "    border: none;\n",
              "    border-radius: 50%;\n",
              "    cursor: pointer;\n",
              "    display: none;\n",
              "    fill: var(--fill-color);\n",
              "    height: 32px;\n",
              "    padding: 0;\n",
              "    width: 32px;\n",
              "  }\n",
              "\n",
              "  .colab-df-quickchart:hover {\n",
              "    background-color: var(--hover-bg-color);\n",
              "    box-shadow: 0 1px 2px rgba(60, 64, 67, 0.3), 0 1px 3px 1px rgba(60, 64, 67, 0.15);\n",
              "    fill: var(--button-hover-fill-color);\n",
              "  }\n",
              "\n",
              "  .colab-df-quickchart-complete:disabled,\n",
              "  .colab-df-quickchart-complete:disabled:hover {\n",
              "    background-color: var(--disabled-bg-color);\n",
              "    fill: var(--disabled-fill-color);\n",
              "    box-shadow: none;\n",
              "  }\n",
              "\n",
              "  .colab-df-spinner {\n",
              "    border: 2px solid var(--fill-color);\n",
              "    border-color: transparent;\n",
              "    border-bottom-color: var(--fill-color);\n",
              "    animation:\n",
              "      spin 1s steps(1) infinite;\n",
              "  }\n",
              "\n",
              "  @keyframes spin {\n",
              "    0% {\n",
              "      border-color: transparent;\n",
              "      border-bottom-color: var(--fill-color);\n",
              "      border-left-color: var(--fill-color);\n",
              "    }\n",
              "    20% {\n",
              "      border-color: transparent;\n",
              "      border-left-color: var(--fill-color);\n",
              "      border-top-color: var(--fill-color);\n",
              "    }\n",
              "    30% {\n",
              "      border-color: transparent;\n",
              "      border-left-color: var(--fill-color);\n",
              "      border-top-color: var(--fill-color);\n",
              "      border-right-color: var(--fill-color);\n",
              "    }\n",
              "    40% {\n",
              "      border-color: transparent;\n",
              "      border-right-color: var(--fill-color);\n",
              "      border-top-color: var(--fill-color);\n",
              "    }\n",
              "    60% {\n",
              "      border-color: transparent;\n",
              "      border-right-color: var(--fill-color);\n",
              "    }\n",
              "    80% {\n",
              "      border-color: transparent;\n",
              "      border-right-color: var(--fill-color);\n",
              "      border-bottom-color: var(--fill-color);\n",
              "    }\n",
              "    90% {\n",
              "      border-color: transparent;\n",
              "      border-bottom-color: var(--fill-color);\n",
              "    }\n",
              "  }\n",
              "</style>\n",
              "\n",
              "  <script>\n",
              "    async function quickchart(key) {\n",
              "      const quickchartButtonEl =\n",
              "        document.querySelector('#' + key + ' button');\n",
              "      quickchartButtonEl.disabled = true;  // To prevent multiple clicks.\n",
              "      quickchartButtonEl.classList.add('colab-df-spinner');\n",
              "      try {\n",
              "        const charts = await google.colab.kernel.invokeFunction(\n",
              "            'suggestCharts', [key], {});\n",
              "      } catch (error) {\n",
              "        console.error('Error during call to suggestCharts:', error);\n",
              "      }\n",
              "      quickchartButtonEl.classList.remove('colab-df-spinner');\n",
              "      quickchartButtonEl.classList.add('colab-df-quickchart-complete');\n",
              "    }\n",
              "    (() => {\n",
              "      let quickchartButtonEl =\n",
              "        document.querySelector('#df-6f143f63-1964-45e7-aed2-dae8feec2eaa button');\n",
              "      quickchartButtonEl.style.display =\n",
              "        google.colab.kernel.accessAllowed ? 'block' : 'none';\n",
              "    })();\n",
              "  </script>\n",
              "</div>\n",
              "    </div>\n",
              "  </div>\n"
            ]
          },
          "metadata": {},
          "execution_count": 14
        }
      ]
    },
    {
      "cell_type": "markdown",
      "source": [
        "# Question 1: Comparision of Different Machine Learning Models"
      ],
      "metadata": {
        "id": "D-LMngvc0NQu"
      }
    },
    {
      "cell_type": "markdown",
      "source": [
        "# Model #1: KNN Analysis"
      ],
      "metadata": {
        "id": "xtSjzHrdq2bz"
      }
    },
    {
      "cell_type": "code",
      "source": [
        "#Preprocess data for KNN\n",
        "\n",
        "##Split the data into features and label.\n",
        "X = diabete_data[['Age_at_Exam', 'sBP', 'BMI', 'LDL', 'HDL', 'A1c', 'TG', 'FBS', 'FBS>DM', 'Total_Cholesterol',\n",
        "                 'Depression', 'HTN', 'OA', 'COPD', 'Sex']]\n",
        "y = diabete_data['DIABETES']\n",
        "\n",
        "X_train, X_test, y_train, y_test = train_test_split(X, y, test_size=0.2, random_state=42)\n",
        "\n",
        "scaler = StandardScaler()\n",
        "X_train = scaler.fit_transform(X_train)\n",
        "X_test = scaler.transform(X_test)\n",
        "##Check if the data is balance\n",
        "y_train.value_counts()"
      ],
      "metadata": {
        "colab": {
          "base_uri": "https://localhost:8080/"
        },
        "id": "eovckg7oq7-o",
        "outputId": "67b610be-a779-4974-ae5e-3c47652b659c"
      },
      "execution_count": null,
      "outputs": [
        {
          "output_type": "execute_result",
          "data": {
            "text/plain": [
              "1    2903\n",
              "0    2813\n",
              "Name: DIABETES, dtype: int64"
            ]
          },
          "metadata": {},
          "execution_count": 6
        }
      ]
    },
    {
      "cell_type": "code",
      "source": [
        "#Check for the best k-values\n",
        "\n",
        "k_vals=[]\n",
        "ac_scores=[]\n",
        "for k in range(1,100):\n",
        "  knn = KNeighborsClassifier(n_neighbors=k)\n",
        "  knn.fit(X_train, y_train)\n",
        "  y_pred = knn.predict(X_test)\n",
        "  k_vals.append(k)\n",
        "  ac_scores.append(accuracy_score(y_test, y_pred))\n",
        "\n",
        "k_vals=np.array(k_vals)\n",
        "ac_scores=np.array(ac_scores)\n",
        "accuracy_k= pd.DataFrame(k_vals,columns=['k'])\n",
        "accuracy_k['accuracy score']=ac_scores\n",
        "accuracy_k.plot.line(x='k',y='accuracy score', title='K Values vs. Accuracy Scores')\n",
        "plt.xlabel('K-value')\n",
        "plt.ylabel('Accuracy score')"
      ],
      "metadata": {
        "colab": {
          "base_uri": "https://localhost:8080/",
          "height": 489
        },
        "id": "pHWyn51kr-Fk",
        "outputId": "27f0667b-fe32-4bbd-aaf3-aa2bee5ebad8"
      },
      "execution_count": null,
      "outputs": [
        {
          "output_type": "execute_result",
          "data": {
            "text/plain": [
              "Text(0, 0.5, 'Accuracy score')"
            ]
          },
          "metadata": {},
          "execution_count": 7
        },
        {
          "output_type": "display_data",
          "data": {
            "text/plain": [
              "<Figure size 640x480 with 1 Axes>"
            ],
            "image/png": "[encoded data removed]"
          },
          "metadata": {}
        }
      ]
    },
    {
      "cell_type": "code",
      "source": [
        "#Apply KNN\n",
        "\n",
        "knn = KNeighborsClassifier(n_neighbors=56)\n",
        "knn.fit(X_train, y_train)\n",
        "\n",
        "y_pred = knn.predict(X_test)\n",
        "\n",
        "print(confusion_matrix(y_test, y_pred))\n",
        "print(classification_report(y_test, y_pred))\n",
        "\n",
        "classes = diabete_data['DIABETES'].unique()\n",
        "\n",
        "plt.figure(figsize=(7,5))\n",
        "sns.heatmap(confusion_matrix(y_test, y_pred, labels=classes), cmap='Purples', annot=True, fmt='g', xticklabels=classes, yticklabels=classes)\n",
        "plt.xlabel('Predicted')\n",
        "plt.ylabel('Actual')\n",
        "plt.title('Confusion Matrix')\n",
        "plt.show()"
      ],
      "metadata": {
        "colab": {
          "base_uri": "https://localhost:8080/",
          "height": 678
        },
        "id": "ki_tFcj0sHLp",
        "outputId": "b1de56eb-d870-4ac1-83ee-e2e6b08df003"
      },
      "execution_count": null,
      "outputs": [
        {
          "output_type": "stream",
          "name": "stdout",
          "text": [
            "[[636  61]\n",
            " [158 574]]\n",
            "              precision    recall  f1-score   support\n",
            "\n",
            "           0       0.80      0.91      0.85       697\n",
            "           1       0.90      0.78      0.84       732\n",
            "\n",
            "    accuracy                           0.85      1429\n",
            "   macro avg       0.85      0.85      0.85      1429\n",
            "weighted avg       0.85      0.85      0.85      1429\n",
            "\n"
          ]
        },
        {
          "output_type": "display_data",
          "data": {
            "text/plain": [
              "<Figure size 700x500 with 2 Axes>"
            ],
            "image/png": "[encoded data removed]"
          },
          "metadata": {}
        }
      ]
    },
    {
      "cell_type": "markdown",
      "source": [
        "# Model #2: Logistic Regression Analysis"
      ],
      "metadata": {
        "id": "Dy_1-C9jtWrW"
      }
    },
    {
      "cell_type": "code",
      "source": [
        "#Preprocess data for Logistic regression\n",
        "\n",
        "##Split the data into features and label.\n",
        "X_log = diabete_data[['Age_at_Exam', 'sBP', 'BMI', 'LDL', 'HDL', 'A1c', 'TG', 'FBS', 'FBS>DM', 'Total_Cholesterol',\n",
        "                 'Depression', 'HTN', 'OA', 'COPD', 'Sex']]\n",
        "y_log = diabete_data['DIABETES']\n",
        "\n",
        "X_log_train, X_log_test, y_log_train, y_log_test = train_test_split(X_log, y_log, test_size=0.2, random_state=42)\n",
        "\n",
        "##Normalizing data\n",
        "scaler_log = StandardScaler()\n",
        "X_log_scaled = scaler_log.fit_transform(X_log)"
      ],
      "metadata": {
        "id": "dKLfWENwtinT"
      },
      "execution_count": null,
      "outputs": []
    },
    {
      "cell_type": "code",
      "source": [
        "#Apply logistic regression\n",
        "\n",
        "##Training logistic regression model\n",
        "log_reg = LogisticRegression(penalty='l2', C=1.0, solver='liblinear')\n",
        "log_reg.fit(X_log_train, y_log_train)\n",
        "\n",
        "##Use the model to make predictions on the testing data\n",
        "y_log_pred = log_reg.predict(X_log_test)\n",
        "\n",
        "##Evaluate the model\n",
        "conf_matrix = confusion_matrix(y_log_test, y_log_pred)\n",
        "class_report = classification_report(y_log_test, y_log_pred)\n",
        "\n",
        "print(\"Confusion Matrix:\")\n",
        "print(conf_matrix)\n",
        "print(\"\\nClassification Report:\")\n",
        "print(class_report)\n",
        "\n",
        "classes = diabete_data['DIABETES'].unique()\n",
        "\n",
        "plt.figure(figsize=(7,5))\n",
        "sns.heatmap(confusion_matrix(y_log_test, y_log_pred, labels=classes), cmap='Purples', annot=True, fmt='g', xticklabels=classes, yticklabels=classes)\n",
        "plt.xlabel('Predicted')\n",
        "plt.ylabel('Actual')\n",
        "plt.title('Confusion Matrix')\n",
        "plt.show()"
      ],
      "metadata": {
        "colab": {
          "base_uri": "https://localhost:8080/",
          "height": 730
        },
        "id": "D9dZBUrxt-7P",
        "outputId": "4714e0d9-522b-449e-8f74-8ac4b74cadaf"
      },
      "execution_count": null,
      "outputs": [
        {
          "output_type": "stream",
          "name": "stdout",
          "text": [
            "Confusion Matrix:\n",
            "[[639  58]\n",
            " [102 630]]\n",
            "\n",
            "Classification Report:\n",
            "              precision    recall  f1-score   support\n",
            "\n",
            "           0       0.86      0.92      0.89       697\n",
            "           1       0.92      0.86      0.89       732\n",
            "\n",
            "    accuracy                           0.89      1429\n",
            "   macro avg       0.89      0.89      0.89      1429\n",
            "weighted avg       0.89      0.89      0.89      1429\n",
            "\n"
          ]
        },
        {
          "output_type": "display_data",
          "data": {
            "text/plain": [
              "<Figure size 700x500 with 2 Axes>"
            ],
            "image/png": "[encoded data removed]"
          },
          "metadata": {}
        }
      ]
    },
    {
      "cell_type": "code",
      "source": [
        "from sklearn.model_selection import cross_val_score\n",
        "\n",
        "scores = cross_val_score(log_reg, X_log_train, y_log_train, cv=10)\n",
        "print('Cross-Validation Accuracy Scores', scores)\n",
        "\n",
        "scores = pd.Series(scores)\n",
        "scores.min(), scores.mean(), scores.max()\n"
      ],
      "metadata": {
        "colab": {
          "base_uri": "https://localhost:8080/"
        },
        "id": "_2FdoDzA3iey",
        "outputId": "05dc9844-d5e1-47da-ccc9-305c3493a24b"
      },
      "execution_count": null,
      "outputs": [
        {
          "output_type": "stream",
          "name": "stdout",
          "text": [
            "Cross-Validation Accuracy Scores [0.85664336 0.88111888 0.87937063 0.86888112 0.86713287 0.87937063\n",
            " 0.87915937 0.88791594 0.86690018 0.89141856]\n"
          ]
        },
        {
          "output_type": "execute_result",
          "data": {
            "text/plain": [
              "(0.8566433566433567, 0.8757911528051633, 0.8914185639229422)"
            ]
          },
          "metadata": {},
          "execution_count": 12
        }
      ]
    },
    {
      "cell_type": "markdown",
      "source": [
        "# Model #3: Naïve Bayes Classifier Analysis"
      ],
      "metadata": {
        "id": "ijepMImIucgx"
      }
    },
    {
      "cell_type": "code",
      "source": [
        "#Preprocess data for Naïve Bayes Classifier\n",
        "\n",
        "##Create list of numerical and categorical features\n",
        "target_column = 'DIABETES'\n",
        "categorical_columns = ['Sex', 'HTN', 'OA', 'Depression', 'FBS>DM', 'COPD']\n",
        "numerical_columns = [i for i in diabete_data.columns if i not in categorical_columns + [target_column]]\n",
        "\n",
        "##Splitting the original dataset into training, validation, and test sets\n",
        "train_diabete_data = diabete_data.sample(frac = 0.8)\n",
        "\n",
        "##Removing the training data from the original dataset to get the combined validation and test data\n",
        "test_diabete_data = diabete_data.drop(train_diabete_data.index)\n",
        "\n",
        "##Splitting the combined validation and test data into two equal parts for validation and testing, respectively\n",
        "valid_diabete_data = test_diabete_data.sample(frac = 0.5)\n",
        "test_diabete_data = test_diabete_data.drop(valid_diabete_data.index)"
      ],
      "metadata": {
        "id": "J4MJg63huJTW"
      },
      "execution_count": null,
      "outputs": []
    },
    {
      "cell_type": "code",
      "source": [
        "# Define utility functions for model evaluation\n",
        "\n",
        "def get_scores(Y, Y_pred):\n",
        "    \"\"\"\n",
        "    Computes various evaluation metrics for model predictions.\n",
        "\n",
        "    Parameters:\n",
        "    - Y: Actual target values.\n",
        "    - Y_pred: Predicted target values by the model.\n",
        "\n",
        "    Returns:\n",
        "    - conf_matrix: Confusion matrix showing true positives, true negatives, false positives, and false negatives.\n",
        "    - class_report: Classification report detailing precision, recall, and F1-score for each class.\n",
        "    - auc: Area Under the Curve (AUC) value for the model's predictions.\n",
        "    - acc: Accuracy of the model's predictions.\n",
        "    \"\"\"\n",
        "    conf_matrix = confusion_matrix(Y, Y_pred)\n",
        "    class_report = classification_report(Y, Y_pred)\n",
        "    auc = roc_auc_score(Y, Y_pred)\n",
        "    acc = accuracy_score(Y, Y_pred)\n",
        "\n",
        "    return conf_matrix, class_report, auc, acc\n",
        "\n",
        "def print_scores(conf_matrix, class_report, auc, acc):\n",
        "    \"\"\"\n",
        "    Prints the evaluation metrics in a structured format.\n",
        "\n",
        "    Parameters:\n",
        "    - conf_matrix: Confusion matrix from get_scores function.\n",
        "    - class_report: Classification report from get_scores function.\n",
        "    - auc: AUC value from get_scores function.\n",
        "    - acc: Accuracy value from get_scores function.\n",
        "    \"\"\"\n",
        "    print('AUC : ', auc)\n",
        "    print('Accuracy : ', acc)\n",
        "    print(\"Confusion Matrix:\")\n",
        "    print(conf_matrix)\n",
        "    print(\"\\nClassification Report:\")\n",
        "    print(class_report)"
      ],
      "metadata": {
        "id": "qSWVBFl1vtvK"
      },
      "execution_count": null,
      "outputs": []
    },
    {
      "cell_type": "code",
      "source": [
        "#Apply data for Naïve Bayes Classifier\n",
        "\n",
        "##Initialize the Categorical Naive Bayes model\n",
        "cnb = CategoricalNB()\n",
        "\n",
        "##Train the model on training data using all columns: categorical, numerical, and multinomial\n",
        "cnb = cnb.fit(\n",
        "    diabete_data[categorical_columns + numerical_columns].to_numpy(),\n",
        "    diabete_data[target_column]\n",
        ")\n",
        "\n",
        "##Predict the target probabilities for the training set\n",
        "y_hat_prob = cnb.predict_proba(diabete_data[categorical_columns + numerical_columns])\n",
        "\n",
        "##Convert probabilities to class labels\n",
        "y_hat = cnb.predict(diabete_data[categorical_columns + numerical_columns])\n",
        "\n",
        "##Evaluate model's performance on the training set\n",
        "conf_matrix, class_report, auc, acc = get_scores(diabete_data[target_column], y_hat)\n",
        "\n",
        "##Print out the evaluation metrics\n",
        "print_scores(conf_matrix, class_report, auc, acc)\n",
        "\n",
        "##Visualize the Receiver Operating Characteristic (ROC) curve\n",
        "fpr, tpr, thresholds = roc_curve(diabete_data[target_column], y_hat_prob[:, 1])\n",
        "display = RocCurveDisplay(fpr=fpr, tpr=tpr, roc_auc=auc, estimator_name='Naive Bayes')\n",
        "display.plot()\n",
        "ax = plt.gca()\n",
        "ax.get_lines()[0].set_color('#9325c2')"
      ],
      "metadata": {
        "colab": {
          "base_uri": "https://localhost:8080/",
          "height": 796
        },
        "id": "RAkmu5uAv3R2",
        "outputId": "d27df85c-0da5-40ba-a438-baa7f08bd28f"
      },
      "execution_count": null,
      "outputs": [
        {
          "output_type": "stream",
          "name": "stderr",
          "text": [
            "/usr/local/lib/python3.10/dist-packages/sklearn/base.py:432: UserWarning: X has feature names, but CategoricalNB was fitted without feature names\n",
            "  warnings.warn(\n",
            "/usr/local/lib/python3.10/dist-packages/sklearn/base.py:432: UserWarning: X has feature names, but CategoricalNB was fitted without feature names\n",
            "  warnings.warn(\n"
          ]
        },
        {
          "output_type": "stream",
          "name": "stdout",
          "text": [
            "AUC :  0.8667289763575872\n",
            "Accuracy :  0.8667599720083975\n",
            "Confusion Matrix:\n",
            "[[3036  474]\n",
            " [ 478 3157]]\n",
            "\n",
            "Classification Report:\n",
            "              precision    recall  f1-score   support\n",
            "\n",
            "           0       0.86      0.86      0.86      3510\n",
            "           1       0.87      0.87      0.87      3635\n",
            "\n",
            "    accuracy                           0.87      7145\n",
            "   macro avg       0.87      0.87      0.87      7145\n",
            "weighted avg       0.87      0.87      0.87      7145\n",
            "\n"
          ]
        },
        {
          "output_type": "display_data",
          "data": {
            "text/plain": [
              "<Figure size 640x480 with 1 Axes>"
            ],
            "image/png": "[encoded data removed]"
          },
          "metadata": {}
        }
      ]
    },
    {
      "cell_type": "code",
      "source": [
        "##Predict the target probabilities for the validation set using the extended feature set\n",
        "y_hat_prob = cnb.predict_proba(valid_diabete_data[categorical_columns + numerical_columns])\n",
        "\n",
        "##Convert probabilities to class labels\n",
        "y_hat = cnb.predict(valid_diabete_data[categorical_columns + numerical_columns])\n",
        "\n",
        "##Evaluate model's performance on the validation set\n",
        "conf_matrix, class_report, auc, acc = get_scores(valid_diabete_data[target_column], y_hat)\n",
        "\n",
        "##Print out the evaluation metrics\n",
        "print_scores(conf_matrix, class_report, auc, acc)\n",
        "\n",
        "##Visualize the Receiver Operating Characteristic (ROC) curve for the validation set\n",
        "fpr, tpr, thresholds = roc_curve(valid_diabete_data[target_column], y_hat_prob[:, 1])\n",
        "display = RocCurveDisplay(fpr=fpr, tpr=tpr, roc_auc=auc, estimator_name='Naive Bayes')\n",
        "display.plot()\n",
        "ax = plt.gca()\n",
        "ax.get_lines()[0].set_color('#9325c2')"
      ],
      "metadata": {
        "colab": {
          "base_uri": "https://localhost:8080/",
          "height": 796
        },
        "id": "dQcWL4Y_xSsn",
        "outputId": "c258fd80-7916-4b9a-efe0-91de81b65c65"
      },
      "execution_count": null,
      "outputs": [
        {
          "output_type": "stream",
          "name": "stderr",
          "text": [
            "/usr/local/lib/python3.10/dist-packages/sklearn/base.py:432: UserWarning: X has feature names, but CategoricalNB was fitted without feature names\n",
            "  warnings.warn(\n",
            "/usr/local/lib/python3.10/dist-packages/sklearn/base.py:432: UserWarning: X has feature names, but CategoricalNB was fitted without feature names\n",
            "  warnings.warn(\n"
          ]
        },
        {
          "output_type": "stream",
          "name": "stdout",
          "text": [
            "AUC :  0.8593279504375242\n",
            "Accuracy :  0.8585434173669467\n",
            "Confusion Matrix:\n",
            "[[314  59]\n",
            " [ 42 299]]\n",
            "\n",
            "Classification Report:\n",
            "              precision    recall  f1-score   support\n",
            "\n",
            "           0       0.88      0.84      0.86       373\n",
            "           1       0.84      0.88      0.86       341\n",
            "\n",
            "    accuracy                           0.86       714\n",
            "   macro avg       0.86      0.86      0.86       714\n",
            "weighted avg       0.86      0.86      0.86       714\n",
            "\n"
          ]
        },
        {
          "output_type": "display_data",
          "data": {
            "text/plain": [
              "<Figure size 640x480 with 1 Axes>"
            ],
            "image/png": "[encoded data removed]"
          },
          "metadata": {}
        }
      ]
    },
    {
      "cell_type": "markdown",
      "source": [
        "# Model #4: Decision Tree Analysis"
      ],
      "metadata": {
        "id": "taKDrDA7yIS-"
      }
    },
    {
      "cell_type": "code",
      "source": [
        "#Preprocess data for Decision Tree\n",
        "\n",
        "##Splitting the data into 80% training and 20% testing\n",
        "train = diabete_data.sample(frac=0.8, random_state=42)\n",
        "test = diabete_data.drop(train.index)\n",
        "\n",
        "##Initializing a column transformer that will handle categorical data encoding\n",
        "ct = ColumnTransformer([('one_hot_encoder', OneHotEncoder(), [c for c in categorical_columns + numerical_columns]),\n",
        "                        ('target_encoder', TargetEncoder(), [])],\n",
        "                       remainder='passthrough')\n",
        "\n",
        "##Initializing a Decision Tree classifier\n",
        "dt = tree.DecisionTreeClassifier(criterion='entropy',class_weight='balanced')"
      ],
      "metadata": {
        "id": "zQgapIfSyH_R"
      },
      "execution_count": null,
      "outputs": []
    },
    {
      "cell_type": "code",
      "source": [
        "#Apply data for Decision Tree\n",
        "\n",
        "##Creating a pipeline that first preprocesses the data and then applies the decision tree\n",
        "model = Pipeline([\n",
        "    ('pre_process', ct),\n",
        "    ('DT', dt)\n",
        "])\n",
        "\n",
        "##Training the model on the training data\n",
        "model = model.fit(train.drop('DIABETES', axis=1), train['DIABETES'])\n",
        "\n",
        "##Predicting and evaluating the model's performance on the training data\n",
        "Y_pred = model.predict(train.drop('DIABETES', axis=1))\n",
        "accuracy_score(train['DIABETES'], Y_pred)"
      ],
      "metadata": {
        "colab": {
          "base_uri": "https://localhost:8080/"
        },
        "id": "6Fw-CHHGyjxd",
        "outputId": "850b54ef-07df-4a83-aacf-1291aacb4940"
      },
      "execution_count": null,
      "outputs": [
        {
          "output_type": "stream",
          "name": "stdout",
          "text": [
            "Warning: No categorical columns found. Calling 'transform' will only return input data.\n"
          ]
        },
        {
          "output_type": "execute_result",
          "data": {
            "text/plain": [
              "1.0"
            ]
          },
          "metadata": {},
          "execution_count": 16
        }
      ]
    },
    {
      "cell_type": "code",
      "source": [
        "##Predicting and evaluating the model's performance on the test data\n",
        "Y_pred = model.predict(test.drop('DIABETES', axis=1))\n",
        "accuracy_score(test['DIABETES'], Y_pred)"
      ],
      "metadata": {
        "colab": {
          "base_uri": "https://localhost:8080/"
        },
        "id": "pnMdm32xyuwK",
        "outputId": "1218935a-e43d-4ee5-d612-6dedb463061d"
      },
      "execution_count": null,
      "outputs": [
        {
          "output_type": "execute_result",
          "data": {
            "text/plain": [
              "0.8355493351994402"
            ]
          },
          "metadata": {},
          "execution_count": 17
        }
      ]
    },
    {
      "cell_type": "markdown",
      "source": [
        "#Model #5: Neural Networks"
      ],
      "metadata": {
        "id": "FO6Y7MVEhZt_"
      }
    },
    {
      "cell_type": "markdown",
      "source": [
        "# Question 2: Study the Correlation of Different Predictors with Diabetes"
      ],
      "metadata": {
        "id": "q_THgEiDzzeh"
      }
    },
    {
      "cell_type": "markdown",
      "source": [
        "#Focus on Dropping Sugar and Fat Levels"
      ],
      "metadata": {
        "id": "aNQIb0_Yhnuu"
      }
    },
    {
      "cell_type": "markdown",
      "source": [
        "## Drop FBS and FBS>DM from Logistic Regression Model"
      ],
      "metadata": {
        "id": "OvtXgbBg1JG6"
      }
    },
    {
      "cell_type": "code",
      "source": [
        "#Preprocess the data\n",
        "##Split the data into features and target variable\n",
        "X = diabete_data[['Age_at_Exam', 'sBP', 'BMI', 'LDL', 'HDL', 'A1c', 'TG',\n",
        "       'Total_Cholesterol', 'Depression', 'HTN', 'OA', 'COPD',\n",
        "       'Sex']]\n",
        "y = diabete_data['DIABETES']\n",
        "\n",
        "##Split the data into training and testing sets\n",
        "X_train, X_test, y_train, y_test = train_test_split(X, y, test_size=0.2, random_state=42)\n",
        "\n",
        "##Normalizing data\n",
        "scaler = StandardScaler()\n",
        "X_scaled = scaler.fit_transform(X)"
      ],
      "metadata": {
        "id": "7AvNzUC31Ifq"
      },
      "execution_count": null,
      "outputs": []
    },
    {
      "cell_type": "code",
      "source": [
        "#Training logistic regression model\n",
        "log_reg = LogisticRegression(penalty='l2', C=1.0, solver='liblinear')\n",
        "log_reg.fit(X_train, y_train)\n",
        "#Use the model to make predictions on the testing data\n",
        "y_pred = log_reg.predict(X_test)\n",
        "\n",
        "#Evaluate the model\n",
        "conf_matrix = confusion_matrix(y_test, y_pred)\n",
        "class_report = classification_report(y_test, y_pred)\n",
        "\n",
        "print(\"Confusion Matrix:\")\n",
        "print(conf_matrix)\n",
        "print(\"\\nClassification Report:\")\n",
        "print(class_report)\n",
        "\n",
        "#Visualizing confusion matrix\n",
        "sns.heatmap(conf_matrix, annot=True, fmt='d')\n",
        "plt.ylabel('Actual')\n",
        "plt.xlabel('Predicted')\n",
        "plt.show()"
      ],
      "metadata": {
        "colab": {
          "base_uri": "https://localhost:8080/",
          "height": 692
        },
        "id": "NY4ZYkvozzKC",
        "outputId": "42f216e8-b735-408b-9e8f-a1ca274d0231"
      },
      "execution_count": null,
      "outputs": [
        {
          "output_type": "stream",
          "name": "stdout",
          "text": [
            "Confusion Matrix:\n",
            "[[610  87]\n",
            " [129 603]]\n",
            "\n",
            "Classification Report:\n",
            "              precision    recall  f1-score   support\n",
            "\n",
            "           0       0.83      0.88      0.85       697\n",
            "           1       0.87      0.82      0.85       732\n",
            "\n",
            "    accuracy                           0.85      1429\n",
            "   macro avg       0.85      0.85      0.85      1429\n",
            "weighted avg       0.85      0.85      0.85      1429\n",
            "\n"
          ]
        },
        {
          "output_type": "display_data",
          "data": {
            "text/plain": [
              "<Figure size 640x480 with 2 Axes>"
            ],
            "image/png": "[encoded data removed]"
          },
          "metadata": {}
        }
      ]
    },
    {
      "cell_type": "markdown",
      "source": [
        "## Drop LDL and HDL from Logistic Regression Model"
      ],
      "metadata": {
        "id": "hlf2XPmb4i8y"
      }
    },
    {
      "cell_type": "code",
      "source": [
        "#Preprocess the data\n",
        "##Split the data into features and target variable\n",
        "X = diabete_data[['Age_at_Exam', 'sBP', 'BMI', 'A1c', 'TG', 'FBS', 'FBS>DM',\n",
        "       'Total_Cholesterol', 'Depression', 'HTN', 'OA', 'COPD',\n",
        "       'Sex']]\n",
        "y = diabete_data['DIABETES']\n",
        "\n",
        "##Split the data into training and testing sets\n",
        "X_train, X_test, y_train, y_test = train_test_split(X, y, test_size=0.2, random_state=42)\n",
        "\n",
        "##Normalizing data\n",
        "scaler = StandardScaler()\n",
        "X_scaled = scaler.fit_transform(X)"
      ],
      "metadata": {
        "id": "nh2sei-v4hYs"
      },
      "execution_count": null,
      "outputs": []
    },
    {
      "cell_type": "code",
      "source": [
        "#Training logistic regression model\n",
        "log_reg = LogisticRegression(penalty='l2', C=1.0, solver='liblinear')\n",
        "log_reg.fit(X_train, y_train)\n",
        "\n",
        "#Use the model to make predictions on the testing data\n",
        "y_pred = log_reg.predict(X_test)\n",
        "\n",
        "#Evaluate the model\n",
        "conf_matrix = confusion_matrix(y_test, y_pred)\n",
        "class_report = classification_report(y_test, y_pred)\n",
        "\n",
        "print(\"Confusion Matrix:\")\n",
        "print(conf_matrix)\n",
        "print(\"\\nClassification Report:\")\n",
        "print(class_report)\n",
        "\n",
        "#Visualizing confusion matrix\n",
        "sns.heatmap(conf_matrix, annot=True, fmt='d')\n",
        "plt.ylabel('Actual')\n",
        "plt.xlabel('Predicted')\n",
        "plt.show()"
      ],
      "metadata": {
        "colab": {
          "base_uri": "https://localhost:8080/",
          "height": 692
        },
        "id": "1Dv8V4yh4x5A",
        "outputId": "294e62c5-60e8-440d-8dea-5f40b4e8e2a2"
      },
      "execution_count": null,
      "outputs": [
        {
          "output_type": "stream",
          "name": "stdout",
          "text": [
            "Confusion Matrix:\n",
            "[[636  61]\n",
            " [102 630]]\n",
            "\n",
            "Classification Report:\n",
            "              precision    recall  f1-score   support\n",
            "\n",
            "           0       0.86      0.91      0.89       697\n",
            "           1       0.91      0.86      0.89       732\n",
            "\n",
            "    accuracy                           0.89      1429\n",
            "   macro avg       0.89      0.89      0.89      1429\n",
            "weighted avg       0.89      0.89      0.89      1429\n",
            "\n"
          ]
        },
        {
          "output_type": "display_data",
          "data": {
            "text/plain": [
              "<Figure size 640x480 with 2 Axes>"
            ],
            "image/png": "[encoded data removed]"
          },
          "metadata": {}
        }
      ]
    },
    {
      "cell_type": "markdown",
      "source": [
        "## Drop FBS, FBS>DM, LDL and HDL from Logistic Regression Model"
      ],
      "metadata": {
        "id": "k3iBFbExvaiW"
      }
    },
    {
      "cell_type": "code",
      "source": [
        "#Preprocess the data\n",
        "##Split the data into features and target variable\n",
        "X = diabete_data[['sBP', 'BMI', 'A1c', 'TG',\n",
        "       'Total_Cholesterol', 'Depression', 'HTN', 'OA', 'COPD',\n",
        "       'Sex']]\n",
        "y = diabete_data['DIABETES']\n",
        "\n",
        "##Split the data into training and testing sets\n",
        "X_train, X_test, y_train, y_test = train_test_split(X, y, test_size=0.2, random_state=42)"
      ],
      "metadata": {
        "id": "u6p3IWwsvjqD"
      },
      "execution_count": null,
      "outputs": []
    },
    {
      "cell_type": "code",
      "source": [
        "#Training logistic regression model\n",
        "log_reg = LogisticRegression(penalty='l2', C=1.0, solver='liblinear')\n",
        "log_reg.fit(X_train, y_train)\n",
        "\n",
        "#Use the model to make predictions on the testing data\n",
        "y_pred = log_reg.predict(X_test)\n",
        "\n",
        "#Evaluate the model\n",
        "conf_matrix = confusion_matrix(y_test, y_pred)\n",
        "class_report = classification_report(y_test, y_pred)\n",
        "\n",
        "print(\"Confusion Matrix:\")\n",
        "print(conf_matrix)\n",
        "print(\"\\nClassification Report:\")\n",
        "print(class_report)\n",
        "\n",
        "#Visualizing confusion matrix\n",
        "sns.heatmap(conf_matrix, annot=True, fmt='d')\n",
        "plt.ylabel('Actual')\n",
        "plt.xlabel('Predicted')\n",
        "plt.show()"
      ],
      "metadata": {
        "colab": {
          "base_uri": "https://localhost:8080/",
          "height": 694
        },
        "id": "2Sd1nZzxvnjH",
        "outputId": "80be5549-9784-45e6-c7ef-4c6fdec0fe0b"
      },
      "execution_count": null,
      "outputs": [
        {
          "output_type": "stream",
          "name": "stdout",
          "text": [
            "Confusion Matrix:\n",
            "[[606  91]\n",
            " [130 602]]\n",
            "\n",
            "Classification Report:\n",
            "              precision    recall  f1-score   support\n",
            "\n",
            "           0       0.82      0.87      0.85       697\n",
            "           1       0.87      0.82      0.84       732\n",
            "\n",
            "    accuracy                           0.85      1429\n",
            "   macro avg       0.85      0.85      0.85      1429\n",
            "weighted avg       0.85      0.85      0.85      1429\n",
            "\n"
          ]
        },
        {
          "output_type": "display_data",
          "data": {
            "text/plain": [
              "<Figure size 640x480 with 2 Axes>"
            ],
            "image/png": "[encoded data removed]"
          },
          "metadata": {}
        }
      ]
    },
    {
      "cell_type": "markdown",
      "source": [
        "#Drop Other Predictors One at a Time"
      ],
      "metadata": {
        "id": "riftoM8Uh1pZ"
      }
    },
    {
      "cell_type": "markdown",
      "source": [
        "##Drop Age at Exam"
      ],
      "metadata": {
        "id": "R2X5N8OhuynE"
      }
    },
    {
      "cell_type": "code",
      "source": [
        "#Preprocess the data\n",
        "##Split the data into features and target variable\n",
        "X = diabete_data[['sBP', 'BMI', 'LDL', 'HDL', 'A1c', 'TG', 'FBS', 'FBS>DM',\n",
        "       'Total_Cholesterol', 'Depression', 'HTN', 'OA', 'COPD',\n",
        "       'Sex']]\n",
        "y = diabete_data['DIABETES']\n",
        "\n",
        "##Split the data into training and testing sets\n",
        "X_train, X_test, y_train, y_test = train_test_split(X, y, test_size=0.2, random_state=42)\n",
        "\n",
        "##Normalizing data\n",
        "scaler = StandardScaler()\n",
        "X_scaled = scaler.fit_transform(X)\n",
        "\n",
        "#Training logistic regression model\n",
        "log_reg = LogisticRegression(penalty='l2', C=1.0, solver='liblinear')\n",
        "log_reg.fit(X_train, y_train)\n",
        "\n",
        "#Use the model to make predictions on the testing data\n",
        "y_pred = log_reg.predict(X_test)\n",
        "\n",
        "#Evaluate the model\n",
        "conf_matrix = confusion_matrix(y_test, y_pred)\n",
        "class_report = classification_report(y_test, y_pred)\n",
        "\n",
        "print(\"Confusion Matrix:\")\n",
        "print(conf_matrix)\n",
        "print(\"\\nClassification Report:\")\n",
        "print(class_report)\n",
        "\n",
        "#Visualizing confusion matrix\n",
        "sns.heatmap(conf_matrix, annot=True, fmt='d')\n",
        "plt.ylabel('Actual')\n",
        "plt.xlabel('Predicted')\n",
        "plt.show()"
      ],
      "metadata": {
        "colab": {
          "base_uri": "https://localhost:8080/",
          "height": 692
        },
        "id": "ahVPERE9up5y",
        "outputId": "1c143ba0-f440-45de-af39-54c0541c4b30"
      },
      "execution_count": null,
      "outputs": [
        {
          "output_type": "stream",
          "name": "stdout",
          "text": [
            "Confusion Matrix:\n",
            "[[642  55]\n",
            " [102 630]]\n",
            "\n",
            "Classification Report:\n",
            "              precision    recall  f1-score   support\n",
            "\n",
            "           0       0.86      0.92      0.89       697\n",
            "           1       0.92      0.86      0.89       732\n",
            "\n",
            "    accuracy                           0.89      1429\n",
            "   macro avg       0.89      0.89      0.89      1429\n",
            "weighted avg       0.89      0.89      0.89      1429\n",
            "\n"
          ]
        },
        {
          "output_type": "display_data",
          "data": {
            "text/plain": [
              "<Figure size 640x480 with 2 Axes>"
            ],
            "image/png": "[encoded data removed]"
          },
          "metadata": {}
        }
      ]
    },
    {
      "cell_type": "markdown",
      "source": [
        "##Drop sBP"
      ],
      "metadata": {
        "id": "uqQIhYBmvt8x"
      }
    },
    {
      "cell_type": "code",
      "source": [
        "#Preprocess the data\n",
        "##Split the data into features and target variable\n",
        "X = diabete_data[['Age_at_Exam', 'BMI', 'LDL', 'HDL', 'A1c', 'TG', 'FBS', 'FBS>DM',\n",
        "       'Total_Cholesterol', 'Depression', 'HTN', 'OA', 'COPD',\n",
        "       'Sex']]\n",
        "y = diabete_data['DIABETES']\n",
        "\n",
        "##Split the data into training and testing sets\n",
        "X_train, X_test, y_train, y_test = train_test_split(X, y, test_size=0.2, random_state=42)\n",
        "\n",
        "##Normalizing data\n",
        "scaler = StandardScaler()\n",
        "X_scaled = scaler.fit_transform(X)\n",
        "\n",
        "#Training logistic regression model\n",
        "log_reg = LogisticRegression(penalty='l2', C=1.0, solver='liblinear')\n",
        "log_reg.fit(X_train, y_train)\n",
        "\n",
        "#Use the model to make predictions on the testing data\n",
        "y_pred = log_reg.predict(X_test)\n",
        "\n",
        "#Evaluate the model\n",
        "conf_matrix = confusion_matrix(y_test, y_pred)\n",
        "class_report = classification_report(y_test, y_pred)\n",
        "\n",
        "print(\"Confusion Matrix:\")\n",
        "print(conf_matrix)\n",
        "print(\"\\nClassification Report:\")\n",
        "print(class_report)\n",
        "\n",
        "#Visualizing confusion matrix\n",
        "sns.heatmap(conf_matrix, annot=True, fmt='d')\n",
        "plt.ylabel('Actual')\n",
        "plt.xlabel('Predicted')\n",
        "plt.show()"
      ],
      "metadata": {
        "colab": {
          "base_uri": "https://localhost:8080/",
          "height": 692
        },
        "id": "i4YjE4itvvik",
        "outputId": "059297cf-a768-40d2-de70-15f1b004d596"
      },
      "execution_count": null,
      "outputs": [
        {
          "output_type": "stream",
          "name": "stdout",
          "text": [
            "Confusion Matrix:\n",
            "[[636  61]\n",
            " [102 630]]\n",
            "\n",
            "Classification Report:\n",
            "              precision    recall  f1-score   support\n",
            "\n",
            "           0       0.86      0.91      0.89       697\n",
            "           1       0.91      0.86      0.89       732\n",
            "\n",
            "    accuracy                           0.89      1429\n",
            "   macro avg       0.89      0.89      0.89      1429\n",
            "weighted avg       0.89      0.89      0.89      1429\n",
            "\n"
          ]
        },
        {
          "output_type": "display_data",
          "data": {
            "text/plain": [
              "<Figure size 640x480 with 2 Axes>"
            ],
            "image/png": "[encoded data removed]"
          },
          "metadata": {}
        }
      ]
    },
    {
      "cell_type": "markdown",
      "source": [
        "##Drop BMI"
      ],
      "metadata": {
        "id": "f3Nv5lL8v26D"
      }
    },
    {
      "cell_type": "code",
      "source": [
        "#Preprocess the data\n",
        "##Split the data into features and target variable\n",
        "X = diabete_data[['Age_at_Exam', 'sBP', 'LDL', 'HDL', 'A1c', 'TG', 'FBS', 'FBS>DM',\n",
        "       'Total_Cholesterol', 'Depression', 'HTN', 'OA', 'COPD',\n",
        "       'Sex']]\n",
        "y = diabete_data['DIABETES']\n",
        "\n",
        "##Split the data into training and testing sets\n",
        "X_train, X_test, y_train, y_test = train_test_split(X, y, test_size=0.2, random_state=42)\n",
        "\n",
        "##Normalizing data\n",
        "scaler = StandardScaler()\n",
        "X_scaled = scaler.fit_transform(X)\n",
        "\n",
        "#Training logistic regression model\n",
        "log_reg = LogisticRegression(penalty='l2', C=1.0, solver='liblinear')\n",
        "log_reg.fit(X_train, y_train)\n",
        "\n",
        "#Use the model to make predictions on the testing data\n",
        "y_pred = log_reg.predict(X_test)\n",
        "\n",
        "#Evaluate the model\n",
        "conf_matrix = confusion_matrix(y_test, y_pred)\n",
        "class_report = classification_report(y_test, y_pred)\n",
        "\n",
        "print(\"Confusion Matrix:\")\n",
        "print(conf_matrix)\n",
        "print(\"\\nClassification Report:\")\n",
        "print(class_report)\n",
        "\n",
        "#Visualizing confusion matrix\n",
        "sns.heatmap(conf_matrix, annot=True, fmt='d')\n",
        "plt.ylabel('Actual')\n",
        "plt.xlabel('Predicted')\n",
        "plt.show()"
      ],
      "metadata": {
        "colab": {
          "base_uri": "https://localhost:8080/",
          "height": 692
        },
        "id": "qeo5U1PEv3qL",
        "outputId": "475cd504-1ce2-4839-c173-9297f6d164fe"
      },
      "execution_count": null,
      "outputs": [
        {
          "output_type": "stream",
          "name": "stdout",
          "text": [
            "Confusion Matrix:\n",
            "[[638  59]\n",
            " [103 629]]\n",
            "\n",
            "Classification Report:\n",
            "              precision    recall  f1-score   support\n",
            "\n",
            "           0       0.86      0.92      0.89       697\n",
            "           1       0.91      0.86      0.89       732\n",
            "\n",
            "    accuracy                           0.89      1429\n",
            "   macro avg       0.89      0.89      0.89      1429\n",
            "weighted avg       0.89      0.89      0.89      1429\n",
            "\n"
          ]
        },
        {
          "output_type": "display_data",
          "data": {
            "text/plain": [
              "<Figure size 640x480 with 2 Axes>"
            ],
            "image/png": "[encoded data removed]"
          },
          "metadata": {}
        }
      ]
    },
    {
      "cell_type": "markdown",
      "source": [
        "##Drop A1c"
      ],
      "metadata": {
        "id": "E8-uB82Tv8WC"
      }
    },
    {
      "cell_type": "code",
      "source": [
        "#Preprocess the data\n",
        "##Split the data into features and target variable\n",
        "X = diabete_data[['Age_at_Exam', 'sBP', 'BMI', 'LDL', 'HDL', 'TG', 'FBS', 'FBS>DM',\n",
        "       'Total_Cholesterol', 'Depression', 'HTN', 'OA', 'COPD',\n",
        "       'Sex']]\n",
        "y = diabete_data['DIABETES']\n",
        "\n",
        "##Split the data into training and testing sets\n",
        "X_train, X_test, y_train, y_test = train_test_split(X, y, test_size=0.2, random_state=42)\n",
        "\n",
        "##Normalizing data\n",
        "scaler = StandardScaler()\n",
        "X_scaled = scaler.fit_transform(X)\n",
        "\n",
        "#Training logistic regression model\n",
        "log_reg = LogisticRegression(penalty='l2', C=1.0, solver='liblinear')\n",
        "log_reg.fit(X_train, y_train)\n",
        "\n",
        "#Use the model to make predictions on the testing data\n",
        "y_pred = log_reg.predict(X_test)\n",
        "\n",
        "#Evaluate the model\n",
        "conf_matrix = confusion_matrix(y_test, y_pred)\n",
        "class_report = classification_report(y_test, y_pred)\n",
        "\n",
        "print(\"Confusion Matrix:\")\n",
        "print(conf_matrix)\n",
        "print(\"\\nClassification Report:\")\n",
        "print(class_report)\n",
        "\n",
        "#Visualizing confusion matrix\n",
        "sns.heatmap(conf_matrix, annot=True, fmt='d')\n",
        "plt.ylabel('Actual')\n",
        "plt.xlabel('Predicted')\n",
        "plt.show()"
      ],
      "metadata": {
        "colab": {
          "base_uri": "https://localhost:8080/",
          "height": 692
        },
        "id": "8iBIae6jv9Si",
        "outputId": "983642d6-3ac7-430c-dca8-0925dbb9b3ed"
      },
      "execution_count": null,
      "outputs": [
        {
          "output_type": "stream",
          "name": "stdout",
          "text": [
            "Confusion Matrix:\n",
            "[[607  90]\n",
            " [118 614]]\n",
            "\n",
            "Classification Report:\n",
            "              precision    recall  f1-score   support\n",
            "\n",
            "           0       0.84      0.87      0.85       697\n",
            "           1       0.87      0.84      0.86       732\n",
            "\n",
            "    accuracy                           0.85      1429\n",
            "   macro avg       0.85      0.85      0.85      1429\n",
            "weighted avg       0.86      0.85      0.85      1429\n",
            "\n"
          ]
        },
        {
          "output_type": "display_data",
          "data": {
            "text/plain": [
              "<Figure size 640x480 with 2 Axes>"
            ],
            "image/png": "[encoded data removed]"
          },
          "metadata": {}
        }
      ]
    },
    {
      "cell_type": "markdown",
      "source": [
        "##Drop TG"
      ],
      "metadata": {
        "id": "zfPxilUbwC5I"
      }
    },
    {
      "cell_type": "code",
      "source": [
        "#Preprocess the data\n",
        "##Split the data into features and target variable\n",
        "X = diabete_data[['Age_at_Exam', 'sBP', 'BMI', 'LDL', 'HDL', 'A1c', 'FBS', 'FBS>DM',\n",
        "       'Total_Cholesterol', 'Depression', 'HTN', 'OA', 'COPD',\n",
        "       'Sex']]\n",
        "y = diabete_data['DIABETES']\n",
        "\n",
        "##Split the data into training and testing sets\n",
        "X_train, X_test, y_train, y_test = train_test_split(X, y, test_size=0.2, random_state=42)\n",
        "\n",
        "##Normalizing data\n",
        "scaler = StandardScaler()\n",
        "X_scaled = scaler.fit_transform(X)\n",
        "\n",
        "#Training logistic regression model\n",
        "log_reg = LogisticRegression(penalty='l2', C=1.0, solver='liblinear')\n",
        "log_reg.fit(X_train, y_train)\n",
        "\n",
        "#Use the model to make predictions on the testing data\n",
        "y_pred = log_reg.predict(X_test)\n",
        "\n",
        "#Evaluate the model\n",
        "conf_matrix = confusion_matrix(y_test, y_pred)\n",
        "class_report = classification_report(y_test, y_pred)\n",
        "\n",
        "print(\"Confusion Matrix:\")\n",
        "print(conf_matrix)\n",
        "print(\"\\nClassification Report:\")\n",
        "print(class_report)\n",
        "\n",
        "#Visualizing confusion matrix\n",
        "sns.heatmap(conf_matrix, annot=True, fmt='d')\n",
        "plt.ylabel('Actual')\n",
        "plt.xlabel('Predicted')\n",
        "plt.show()"
      ],
      "metadata": {
        "colab": {
          "base_uri": "https://localhost:8080/",
          "height": 692
        },
        "id": "Ww8AXWDMwD_R",
        "outputId": "458477fc-e74b-414a-fbc2-34e34793a538"
      },
      "execution_count": null,
      "outputs": [
        {
          "output_type": "stream",
          "name": "stdout",
          "text": [
            "Confusion Matrix:\n",
            "[[638  59]\n",
            " [103 629]]\n",
            "\n",
            "Classification Report:\n",
            "              precision    recall  f1-score   support\n",
            "\n",
            "           0       0.86      0.92      0.89       697\n",
            "           1       0.91      0.86      0.89       732\n",
            "\n",
            "    accuracy                           0.89      1429\n",
            "   macro avg       0.89      0.89      0.89      1429\n",
            "weighted avg       0.89      0.89      0.89      1429\n",
            "\n"
          ]
        },
        {
          "output_type": "display_data",
          "data": {
            "text/plain": [
              "<Figure size 640x480 with 2 Axes>"
            ],
            "image/png": "[encoded data removed]"
          },
          "metadata": {}
        }
      ]
    },
    {
      "cell_type": "markdown",
      "source": [
        "##Drop Total_Cholesterol"
      ],
      "metadata": {
        "id": "vIvR2tJrwIyw"
      }
    },
    {
      "cell_type": "code",
      "source": [
        "#Preprocess the data\n",
        "##Split the data into features and target variable\n",
        "X = diabete_data[['Age_at_Exam', 'sBP', 'BMI', 'LDL', 'HDL', 'A1c', 'TG', 'FBS', 'FBS>DM',\n",
        "       'Depression', 'HTN', 'OA', 'COPD',\n",
        "       'Sex']]\n",
        "y = diabete_data['DIABETES']\n",
        "\n",
        "##Split the data into training and testing sets\n",
        "X_train, X_test, y_train, y_test = train_test_split(X, y, test_size=0.2, random_state=42)\n",
        "\n",
        "##Normalizing data\n",
        "scaler = StandardScaler()\n",
        "X_scaled = scaler.fit_transform(X)\n",
        "\n",
        "#Training logistic regression model\n",
        "log_reg = LogisticRegression(penalty='l2', C=1.0, solver='liblinear')\n",
        "log_reg.fit(X_train, y_train)\n",
        "\n",
        "#Use the model to make predictions on the testing data\n",
        "y_pred = log_reg.predict(X_test)\n",
        "\n",
        "#Evaluate the model\n",
        "conf_matrix = confusion_matrix(y_test, y_pred)\n",
        "class_report = classification_report(y_test, y_pred)\n",
        "\n",
        "print(\"Confusion Matrix:\")\n",
        "print(conf_matrix)\n",
        "print(\"\\nClassification Report:\")\n",
        "print(class_report)\n",
        "\n",
        "#Visualizing confusion matrix\n",
        "sns.heatmap(conf_matrix, annot=True, fmt='d')\n",
        "plt.ylabel('Actual')\n",
        "plt.xlabel('Predicted')\n",
        "plt.show()"
      ],
      "metadata": {
        "colab": {
          "base_uri": "https://localhost:8080/",
          "height": 692
        },
        "id": "YWBI4a1LwIhU",
        "outputId": "eed8afae-cb5c-4690-adf6-9c0ed58cfdea"
      },
      "execution_count": null,
      "outputs": [
        {
          "output_type": "stream",
          "name": "stdout",
          "text": [
            "Confusion Matrix:\n",
            "[[640  57]\n",
            " [103 629]]\n",
            "\n",
            "Classification Report:\n",
            "              precision    recall  f1-score   support\n",
            "\n",
            "           0       0.86      0.92      0.89       697\n",
            "           1       0.92      0.86      0.89       732\n",
            "\n",
            "    accuracy                           0.89      1429\n",
            "   macro avg       0.89      0.89      0.89      1429\n",
            "weighted avg       0.89      0.89      0.89      1429\n",
            "\n"
          ]
        },
        {
          "output_type": "display_data",
          "data": {
            "text/plain": [
              "<Figure size 640x480 with 2 Axes>"
            ],
            "image/png": "[encoded data removed]"
          },
          "metadata": {}
        }
      ]
    },
    {
      "cell_type": "markdown",
      "source": [
        "##Drop Depression"
      ],
      "metadata": {
        "id": "UEtcwIMWwO9Z"
      }
    },
    {
      "cell_type": "code",
      "source": [
        "#Preprocess the data\n",
        "##Split the data into features and target variable\n",
        "X = diabete_data[['Age_at_Exam', 'sBP', 'BMI', 'LDL', 'HDL', 'A1c', 'TG', 'FBS', 'FBS>DM',\n",
        "       'Total_Cholesterol', 'HTN', 'OA', 'COPD',\n",
        "       'Sex']]\n",
        "y = diabete_data['DIABETES']\n",
        "\n",
        "##Split the data into training and testing sets\n",
        "X_train, X_test, y_train, y_test = train_test_split(X, y, test_size=0.2, random_state=42)\n",
        "\n",
        "##Normalizing data\n",
        "scaler = StandardScaler()\n",
        "X_scaled = scaler.fit_transform(X)\n",
        "\n",
        "#Training logistic regression model\n",
        "log_reg = LogisticRegression(penalty='l2', C=1.0, solver='liblinear')\n",
        "log_reg.fit(X_train, y_train)\n",
        "\n",
        "#Use the model to make predictions on the testing data\n",
        "y_pred = log_reg.predict(X_test)\n",
        "\n",
        "#Evaluate the model\n",
        "conf_matrix = confusion_matrix(y_test, y_pred)\n",
        "class_report = classification_report(y_test, y_pred)\n",
        "\n",
        "print(\"Confusion Matrix:\")\n",
        "print(conf_matrix)\n",
        "print(\"\\nClassification Report:\")\n",
        "print(class_report)\n",
        "\n",
        "#Visualizing confusion matrix\n",
        "sns.heatmap(conf_matrix, annot=True, fmt='d')\n",
        "plt.ylabel('Actual')\n",
        "plt.xlabel('Predicted')\n",
        "plt.show()"
      ],
      "metadata": {
        "colab": {
          "base_uri": "https://localhost:8080/",
          "height": 692
        },
        "id": "gWR-l62MwQdT",
        "outputId": "ffc0ae66-4b9a-4f37-8a57-93534f2bf74c"
      },
      "execution_count": null,
      "outputs": [
        {
          "output_type": "stream",
          "name": "stdout",
          "text": [
            "Confusion Matrix:\n",
            "[[639  58]\n",
            " [102 630]]\n",
            "\n",
            "Classification Report:\n",
            "              precision    recall  f1-score   support\n",
            "\n",
            "           0       0.86      0.92      0.89       697\n",
            "           1       0.92      0.86      0.89       732\n",
            "\n",
            "    accuracy                           0.89      1429\n",
            "   macro avg       0.89      0.89      0.89      1429\n",
            "weighted avg       0.89      0.89      0.89      1429\n",
            "\n"
          ]
        },
        {
          "output_type": "display_data",
          "data": {
            "text/plain": [
              "<Figure size 640x480 with 2 Axes>"
            ],
            "image/png": "[encoded data removed]"
          },
          "metadata": {}
        }
      ]
    },
    {
      "cell_type": "markdown",
      "source": [
        "##Drop HTN"
      ],
      "metadata": {
        "id": "JNbnF9vOwT68"
      }
    },
    {
      "cell_type": "code",
      "source": [
        "#Preprocess the data\n",
        "##Split the data into features and target variable\n",
        "X = diabete_data[['Age_at_Exam', 'sBP', 'BMI', 'LDL', 'HDL', 'A1c', 'TG', 'FBS', 'FBS>DM',\n",
        "       'Total_Cholesterol', 'Depression', 'OA', 'COPD',\n",
        "       'Sex']]\n",
        "y = diabete_data['DIABETES']\n",
        "\n",
        "##Split the data into training and testing sets\n",
        "X_train, X_test, y_train, y_test = train_test_split(X, y, test_size=0.2, random_state=42)\n",
        "\n",
        "##Normalizing data\n",
        "scaler = StandardScaler()\n",
        "X_scaled = scaler.fit_transform(X)\n",
        "\n",
        "#Training logistic regression model\n",
        "log_reg = LogisticRegression(penalty='l2', C=1.0, solver='liblinear')\n",
        "log_reg.fit(X_train, y_train)\n",
        "\n",
        "#Use the model to make predictions on the testing data\n",
        "y_pred = log_reg.predict(X_test)\n",
        "\n",
        "#Evaluate the model\n",
        "conf_matrix = confusion_matrix(y_test, y_pred)\n",
        "class_report = classification_report(y_test, y_pred)\n",
        "\n",
        "print(\"Confusion Matrix:\")\n",
        "print(conf_matrix)\n",
        "print(\"\\nClassification Report:\")\n",
        "print(class_report)\n",
        "\n",
        "#Visualizing confusion matrix\n",
        "sns.heatmap(conf_matrix, annot=True, fmt='d')\n",
        "plt.ylabel('Actual')\n",
        "plt.xlabel('Predicted')\n",
        "plt.show()"
      ],
      "metadata": {
        "colab": {
          "base_uri": "https://localhost:8080/",
          "height": 692
        },
        "id": "s7YhEu8xwVO8",
        "outputId": "ab9a5eb3-70e2-4efb-883b-98c39666db6a"
      },
      "execution_count": null,
      "outputs": [
        {
          "output_type": "stream",
          "name": "stdout",
          "text": [
            "Confusion Matrix:\n",
            "[[639  58]\n",
            " [102 630]]\n",
            "\n",
            "Classification Report:\n",
            "              precision    recall  f1-score   support\n",
            "\n",
            "           0       0.86      0.92      0.89       697\n",
            "           1       0.92      0.86      0.89       732\n",
            "\n",
            "    accuracy                           0.89      1429\n",
            "   macro avg       0.89      0.89      0.89      1429\n",
            "weighted avg       0.89      0.89      0.89      1429\n",
            "\n"
          ]
        },
        {
          "output_type": "display_data",
          "data": {
            "text/plain": [
              "<Figure size 640x480 with 2 Axes>"
            ],
            "image/png": "[encoded data removed]"
          },
          "metadata": {}
        }
      ]
    },
    {
      "cell_type": "markdown",
      "source": [
        "##Drop OA"
      ],
      "metadata": {
        "id": "K1s8QxhvwYf-"
      }
    },
    {
      "cell_type": "code",
      "source": [
        "#Preprocess the data\n",
        "##Split the data into features and target variable\n",
        "X = diabete_data[['Age_at_Exam', 'sBP', 'BMI', 'LDL', 'HDL', 'A1c', 'TG', 'FBS', 'FBS>DM',\n",
        "       'Total_Cholesterol', 'Depression', 'HTN', 'COPD',\n",
        "       'Sex']]\n",
        "y = diabete_data['DIABETES']\n",
        "\n",
        "##Split the data into training and testing sets\n",
        "X_train, X_test, y_train, y_test = train_test_split(X, y, test_size=0.2, random_state=42)\n",
        "\n",
        "##Normalizing data\n",
        "scaler = StandardScaler()\n",
        "X_scaled = scaler.fit_transform(X)\n",
        "\n",
        "#Training logistic regression model\n",
        "log_reg = LogisticRegression(penalty='l2', C=1.0, solver='liblinear')\n",
        "log_reg.fit(X_train, y_train)\n",
        "\n",
        "#Use the model to make predictions on the testing data\n",
        "y_pred = log_reg.predict(X_test)\n",
        "\n",
        "#Evaluate the model\n",
        "conf_matrix = confusion_matrix(y_test, y_pred)\n",
        "class_report = classification_report(y_test, y_pred)\n",
        "\n",
        "print(\"Confusion Matrix:\")\n",
        "print(conf_matrix)\n",
        "print(\"\\nClassification Report:\")\n",
        "print(class_report)\n",
        "\n",
        "#Visualizing confusion matrix\n",
        "sns.heatmap(conf_matrix, annot=True, fmt='d')\n",
        "plt.ylabel('Actual')\n",
        "plt.xlabel('Predicted')\n",
        "plt.show()"
      ],
      "metadata": {
        "colab": {
          "base_uri": "https://localhost:8080/",
          "height": 692
        },
        "id": "5oe2HEkiwZiM",
        "outputId": "3e1d3490-73ff-4f12-f43a-49393b3d95d3"
      },
      "execution_count": null,
      "outputs": [
        {
          "output_type": "stream",
          "name": "stdout",
          "text": [
            "Confusion Matrix:\n",
            "[[636  61]\n",
            " [102 630]]\n",
            "\n",
            "Classification Report:\n",
            "              precision    recall  f1-score   support\n",
            "\n",
            "           0       0.86      0.91      0.89       697\n",
            "           1       0.91      0.86      0.89       732\n",
            "\n",
            "    accuracy                           0.89      1429\n",
            "   macro avg       0.89      0.89      0.89      1429\n",
            "weighted avg       0.89      0.89      0.89      1429\n",
            "\n"
          ]
        },
        {
          "output_type": "display_data",
          "data": {
            "text/plain": [
              "<Figure size 640x480 with 2 Axes>"
            ],
            "image/png": "[encoded data removed]"
          },
          "metadata": {}
        }
      ]
    },
    {
      "cell_type": "markdown",
      "source": [
        "##Drop COPD"
      ],
      "metadata": {
        "id": "oz6vgG26wcpM"
      }
    },
    {
      "cell_type": "code",
      "source": [
        "#Preprocess the data\n",
        "##Split the data into features and target variable\n",
        "X = diabete_data[['Age_at_Exam', 'sBP', 'BMI', 'LDL', 'HDL', 'A1c', 'TG', 'FBS', 'FBS>DM',\n",
        "       'Total_Cholesterol', 'Depression', 'HTN', 'OA',\n",
        "       'Sex']]\n",
        "y = diabete_data['DIABETES']\n",
        "\n",
        "##Split the data into training and testing sets\n",
        "X_train, X_test, y_train, y_test = train_test_split(X, y, test_size=0.2, random_state=42)\n",
        "\n",
        "##Normalizing data\n",
        "scaler = StandardScaler()\n",
        "X_scaled = scaler.fit_transform(X)\n",
        "\n",
        "#Training logistic regression model\n",
        "log_reg = LogisticRegression(penalty='l2', C=1.0, solver='liblinear')\n",
        "log_reg.fit(X_train, y_train)\n",
        "\n",
        "#Use the model to make predictions on the testing data\n",
        "y_pred = log_reg.predict(X_test)\n",
        "\n",
        "#Evaluate the model\n",
        "conf_matrix = confusion_matrix(y_test, y_pred)\n",
        "class_report = classification_report(y_test, y_pred)\n",
        "\n",
        "print(\"Confusion Matrix:\")\n",
        "print(conf_matrix)\n",
        "print(\"\\nClassification Report:\")\n",
        "print(class_report)\n",
        "\n",
        "#Visualizing confusion matrix\n",
        "sns.heatmap(conf_matrix, annot=True, fmt='d')\n",
        "plt.ylabel('Actual')\n",
        "plt.xlabel('Predicted')\n",
        "plt.show()"
      ],
      "metadata": {
        "colab": {
          "base_uri": "https://localhost:8080/",
          "height": 692
        },
        "id": "8T4kg6KUwdxP",
        "outputId": "a6656c5e-7b68-46dc-b3a0-7f5478cf1864"
      },
      "execution_count": null,
      "outputs": [
        {
          "output_type": "stream",
          "name": "stdout",
          "text": [
            "Confusion Matrix:\n",
            "[[637  60]\n",
            " [102 630]]\n",
            "\n",
            "Classification Report:\n",
            "              precision    recall  f1-score   support\n",
            "\n",
            "           0       0.86      0.91      0.89       697\n",
            "           1       0.91      0.86      0.89       732\n",
            "\n",
            "    accuracy                           0.89      1429\n",
            "   macro avg       0.89      0.89      0.89      1429\n",
            "weighted avg       0.89      0.89      0.89      1429\n",
            "\n"
          ]
        },
        {
          "output_type": "display_data",
          "data": {
            "text/plain": [
              "<Figure size 640x480 with 2 Axes>"
            ],
            "image/png": "[encoded data removed]"
          },
          "metadata": {}
        }
      ]
    },
    {
      "cell_type": "markdown",
      "source": [
        "##Drop Sex"
      ],
      "metadata": {
        "id": "WMvSN9cswhDM"
      }
    },
    {
      "cell_type": "code",
      "source": [
        "#Preprocess the data\n",
        "##Split the data into features and target variable\n",
        "X = diabete_data[['Age_at_Exam', 'sBP', 'BMI', 'LDL', 'HDL', 'A1c', 'TG', 'FBS', 'FBS>DM',\n",
        "       'Total_Cholesterol', 'Depression', 'HTN', 'OA', 'COPD']]\n",
        "y = diabete_data['DIABETES']\n",
        "\n",
        "##Split the data into training and testing sets\n",
        "X_train, X_test, y_train, y_test = train_test_split(X, y, test_size=0.2, random_state=42)\n",
        "\n",
        "##Normalizing data\n",
        "scaler = StandardScaler()\n",
        "X_scaled = scaler.fit_transform(X)\n",
        "\n",
        "#Training logistic regression model\n",
        "log_reg = LogisticRegression(penalty='l2', C=1.0, solver='liblinear')\n",
        "log_reg.fit(X_train, y_train)\n",
        "\n",
        "#Use the model to make predictions on the testing data\n",
        "y_pred = log_reg.predict(X_test)\n",
        "\n",
        "#Evaluate the model\n",
        "conf_matrix = confusion_matrix(y_test, y_pred)\n",
        "class_report = classification_report(y_test, y_pred)\n",
        "\n",
        "print(\"Confusion Matrix:\")\n",
        "print(conf_matrix)\n",
        "print(\"\\nClassification Report:\")\n",
        "print(class_report)\n",
        "\n",
        "#Visualizing confusion matrix\n",
        "sns.heatmap(conf_matrix, annot=True, fmt='d')\n",
        "plt.ylabel('Actual')\n",
        "plt.xlabel('Predicted')\n",
        "plt.show()"
      ],
      "metadata": {
        "id": "WzfT8IGBwiI7",
        "outputId": "8fb23b23-7351-4f2e-839a-bff8ab194f35",
        "colab": {
          "base_uri": "https://localhost:8080/",
          "height": 692
        }
      },
      "execution_count": null,
      "outputs": [
        {
          "output_type": "stream",
          "name": "stdout",
          "text": [
            "Confusion Matrix:\n",
            "[[639  58]\n",
            " [103 629]]\n",
            "\n",
            "Classification Report:\n",
            "              precision    recall  f1-score   support\n",
            "\n",
            "           0       0.86      0.92      0.89       697\n",
            "           1       0.92      0.86      0.89       732\n",
            "\n",
            "    accuracy                           0.89      1429\n",
            "   macro avg       0.89      0.89      0.89      1429\n",
            "weighted avg       0.89      0.89      0.89      1429\n",
            "\n"
          ]
        },
        {
          "output_type": "display_data",
          "data": {
            "text/plain": [
              "<Figure size 640x480 with 2 Axes>"
            ],
            "image/png": "[encoded data removed]"
          },
          "metadata": {}
        }
      ]
    },
    {
      "cell_type": "markdown",
      "source": [
        "###***NEW NEURAL NETWORKS"
      ],
      "metadata": {
        "id": "lBkc03pgYJvQ"
      }
    },
    {
      "cell_type": "code",
      "source": [
        "# Randomly sample 70% of the data for training\n",
        "train_data = diabete_data.sample(frac = 0.7, random_state=10)\n",
        "\n",
        "# Use the remaining 30% for testing\n",
        "test_data = diabete_data.drop(train_data.index)\n",
        "\n",
        "# Check the mean of the 'DIABETES' column in both training and testing data\n",
        "train_data['DIABETES'].mean()\n",
        "test_data['DIABETES'].mean()\n",
        "\n",
        "# Data Preparation\n",
        "\n",
        "# Extract the 'DIABETES' column as the target variable for training and testing\n",
        "Y_train = train_data['DIABETES'].to_numpy()\n",
        "Y_test = test_data['DIABETES'].to_numpy()\n",
        "\n",
        "# Extract the features (excluding 'DIABETES') for training and testing\n",
        "X_train = train_data.drop('DIABETES', axis=1).to_numpy()\n",
        "X_test = test_data.drop('DIABETES', axis=1).to_numpy()\n",
        "\n",
        "# Standardize the features to have zero mean and unit variance\n",
        "sc = StandardScaler()\n",
        "X_train = sc.fit_transform(X_train)\n",
        "X_test = sc.transform(X_test)"
      ],
      "metadata": {
        "id": "iwdYDAqPYMYL"
      },
      "execution_count": null,
      "outputs": []
    },
    {
      "cell_type": "code",
      "source": [
        "# Define the number of neurons in the first and second hidden layers\n",
        "hidden_units_layer_1 = 32\n",
        "hidden_units_layer_2 = 32\n",
        "\n",
        "# FIRST LAYER: Define weights and biases for the first layer\n",
        "W1 = t.randn((15, hidden_units_layer_1), requires_grad=True)\n",
        "B1 = t.zeros((1, hidden_units_layer_1), requires_grad=True)\n",
        "\n",
        "# SECOND LAYER: Define weights and biases for the second layer\n",
        "W2 = t.randn((hidden_units_layer_1, hidden_units_layer_2), requires_grad=True)\n",
        "B2 = t.zeros((1, hidden_units_layer_2), requires_grad=True)\n",
        "\n",
        "# THIRD LAYER: Define weights and biases for the output layer\n",
        "W3 = t.randn((hidden_units_layer_2, 1), requires_grad=True)\n",
        "B3 = t.zeros((1, 1), requires_grad=True)"
      ],
      "metadata": {
        "id": "8ZRqLh2uY7Rn"
      },
      "execution_count": null,
      "outputs": []
    },
    {
      "cell_type": "code",
      "source": [
        "# Define the forward pass of the neural network\n",
        "def forward(input):\n",
        "    # First hidden layer with tanh activation\n",
        "    out = tanh(input @ W1 + B1)\n",
        "\n",
        "    # Second hidden layer with tanh activation\n",
        "    out = tanh(out @ W2 + B2)\n",
        "\n",
        "    # Output layer with sigmoid activation (since it's a binary classification problem)\n",
        "    out = sigmoid(out @ W3 + B3)\n",
        "    return out"
      ],
      "metadata": {
        "id": "nOFsvpdXZBxy"
      },
      "execution_count": null,
      "outputs": []
    },
    {
      "cell_type": "code",
      "source": [
        "# Convert the training data to PyTorch tensors\n",
        "X = t.Tensor(X_train).type(t.float32)\n",
        "Y = t.Tensor(Y_train).type(t.float32)\n",
        "\n",
        "# Create a dataset from tensors to be used with DataLoader\n",
        "train_dataset = TensorDataset(X, Y)\n",
        "\n",
        "# Define training hyperparameters\n",
        "epochs = 2000\n",
        "learning_rate = 0.01\n",
        "batch_size = 32\n",
        "\n",
        "# DataLoader provides batches of data for training\n",
        "train_data_loader = DataLoader(train_dataset, batch_size=batch_size, shuffle=True)\n",
        "\n",
        "# Define the optimizer (Adam) and include all weights and biases\n",
        "optimizer = Adam([W1, B1, W2, B2, W3, B3], lr=learning_rate)\n",
        "\n",
        "# Define the loss function (Binary Cross-Entropy Loss)\n",
        "loss_fn = t.nn.BCELoss()"
      ],
      "metadata": {
        "id": "ajxxt67tZEyC"
      },
      "execution_count": null,
      "outputs": []
    },
    {
      "cell_type": "code",
      "source": [
        "train_loss_list = []\n",
        "\n",
        "# Train the model for a specified number of epochs\n",
        "for epoch in range(epochs):\n",
        "    # Reduce the learning rate every 500 epochs\n",
        "    if epoch % 500 == 0:\n",
        "        learning_rate *= .9\n",
        "\n",
        "    per_epoch_loss_list = []\n",
        "\n",
        "    # Iterate over all batches of data\n",
        "    for batch_idx, (X, Y) in enumerate(train_data_loader):\n",
        "        # Forward pass: Compute predictions\n",
        "        probs = forward(X)\n",
        "\n",
        "        # Compute the loss\n",
        "        loss = loss_fn(probs.view(-1), Y)\n",
        "\n",
        "        # Backward pass: Compute gradient and update weights\n",
        "        optimizer.zero_grad()\n",
        "        loss.backward()\n",
        "        optimizer.step()\n",
        "\n",
        "        # Record the loss for this batch\n",
        "        per_epoch_loss_list.append(loss.item())\n",
        "\n",
        "    # Record the average loss for this epoch\n",
        "    train_loss_list.append(sum(per_epoch_loss_list) / len(per_epoch_loss_list))"
      ],
      "metadata": {
        "id": "m-kNg1aqZIco"
      },
      "execution_count": null,
      "outputs": []
    },
    {
      "cell_type": "code",
      "source": [
        "# Plot the training loss over epochs\n",
        "plt.plot([i for i in range(len(train_loss_list))], train_loss_list)\n",
        "plt.xlabel('epochs')\n",
        "plt.ylabel('loss')"
      ],
      "metadata": {
        "colab": {
          "base_uri": "https://localhost:8080/",
          "height": 466
        },
        "id": "miHFq7ZrbkYG",
        "outputId": "8c49d4d6-0593-4707-ba5d-98796ebbbf44"
      },
      "execution_count": null,
      "outputs": [
        {
          "output_type": "execute_result",
          "data": {
            "text/plain": [
              "Text(0, 0.5, 'loss')"
            ]
          },
          "metadata": {},
          "execution_count": 29
        },
        {
          "output_type": "display_data",
          "data": {
            "text/plain": [
              "<Figure size 640x480 with 1 Axes>"
            ],
            "image/png": "[encoded data removed]"
          },
          "metadata": {}
        }
      ]
    },
    {
      "cell_type": "code",
      "source": [
        "# Evaluate Model Performance on Validation Data\n",
        "\n",
        "# Disable gradient calculations for evaluation using t.no_grad()\n",
        "with t.no_grad():\n",
        "    # Prepare the validation data\n",
        "    X = t.Tensor(X_test).type(t.float32)  # Convert validation features to a PyTorch tensor\n",
        "    Y = t.Tensor(Y_test).type(t.float32)  # Convert validation labels to a PyTorch tensor\n",
        "\n",
        "    # Calculate predictions on the validation data\n",
        "    probs = forward(X)  # Pass validation data through the trained model\n",
        "    loss = loss_fn(probs.view(-1), Y)  # Compute the loss between predictions and actual labels\n",
        "\n",
        "    # Print the validation loss\n",
        "    print(loss.item())\n",
        "\n",
        "    # Now, evaluate the model on the training data\n",
        "    X = t.Tensor(X_train).type(t.float32)  # Convert training features to a PyTorch tensor\n",
        "    Y = t.Tensor(Y_train).type(t.float32)  # Convert training labels to a PyTorch tensor\n",
        "\n",
        "    # Calculate predictions on the training data\n",
        "    probs = forward(X)  # Pass training data through the trained model\n",
        "    loss = loss_fn(probs.view(-1), Y)  # Compute the loss between predictions and actual labels\n",
        "\n",
        "    # Print the training loss\n",
        "    print(loss.item())"
      ],
      "metadata": {
        "colab": {
          "base_uri": "https://localhost:8080/"
        },
        "id": "7FXeiu8tbpDh",
        "outputId": "afb1c230-f7dd-4be7-ebf8-cf9f79617301"
      },
      "execution_count": null,
      "outputs": [
        {
          "output_type": "stream",
          "name": "stdout",
          "text": [
            "2.392920970916748\n",
            "0.0018903325544670224\n"
          ]
        }
      ]
    },
    {
      "cell_type": "code",
      "source": [
        "import torch as t\n",
        "import torch.nn as nn\n",
        "from torch.optim import Adam\n",
        "from torch.utils.data import TensorDataset, DataLoader\n",
        "import matplotlib.pyplot as plt\n",
        "\n",
        "# Regularization\n",
        "# Deep neural networks are prone to overfitting if there is not much data available during training.\n",
        "\n",
        "# Define hyperparameters\n",
        "number_of_input_features = 15\n",
        "number_of_hidden_units = 32\n",
        "epochs = 100\n",
        "learning_rate = 0.01\n",
        "batch_size = 32\n",
        "landa = 0.01  # Regularization term (lambda)\n",
        "\n",
        "# Prepare the data\n",
        "X_train_tensor = t.Tensor(X_train).type(t.float32)\n",
        "Y_train_tensor = t.Tensor(Y_train).type(t.float32)\n",
        "\n",
        "X_test_tensor = t.Tensor(X_test).type(t.float32)\n",
        "Y_test_tensor = t.Tensor(Y_test).type(t.float32)\n",
        "\n",
        "train_dataset = TensorDataset(X_train_tensor, Y_train_tensor)\n",
        "train_data_loader = DataLoader(train_dataset, batch_size=batch_size, shuffle=True)\n",
        "\n",
        "# Define the neural network model with regularization\n",
        "model = nn.Sequential(\n",
        "    nn.Linear(number_of_input_features, number_of_hidden_units),  # Linear layer for matrix multiplication and bias addition\n",
        "    nn.Tanh(),  # Tanh activation function\n",
        "    nn.Linear(number_of_hidden_units, 1),  # Another linear layer\n",
        "    nn.Sigmoid()  # Sigmoid activation for probability output\n",
        ")\n",
        "\n",
        "# Define the optimizer\n",
        "optimizer = Adam(model.parameters(), lr=learning_rate)\n",
        "\n",
        "# Define the loss function with Binary Cross-Entropy Loss\n",
        "loss_fn = nn.BCELoss()\n",
        "\n",
        "# Lists to store training accuracy, validation accuracy, and training loss over epochs\n",
        "train_accuracy_list = []\n",
        "validation_accuracy_list = []\n",
        "train_loss_list = []\n",
        "\n",
        "for epoch in range(epochs):\n",
        "    if epoch % 500 == 0:\n",
        "        learning_rate *= 0.9  # Learning rate scheduling\n",
        "\n",
        "    per_epoch_loss_list = []\n",
        "\n",
        "    for batch_idx, (X, Y) in enumerate(train_data_loader):\n",
        "        # Forward pass: Compute predictions\n",
        "        probs = model(X)\n",
        "\n",
        "        # Adding regularization term for all parameters in the model\n",
        "        l2_term = sum([(w ** 2).sum() for w in model.parameters()])\n",
        "\n",
        "        # New loss is the old loss + regularization term\n",
        "        loss = loss_fn(probs.view(-1), Y) + landa * l2_term\n",
        "\n",
        "        per_epoch_loss_list.append(loss.item())\n",
        "\n",
        "        # Backward pass: Compute gradient and update weights\n",
        "        optimizer.zero_grad()\n",
        "        loss.backward()\n",
        "        optimizer.step()\n",
        "\n",
        "    # Evaluate the model on training and validation data\n",
        "    with t.no_grad():\n",
        "        # Set the model in eval mode; some layers use this for certain calculations during training\n",
        "        model.eval()\n",
        "\n",
        "        # Calculate accuracy on train data\n",
        "        probs = model(X_train_tensor)\n",
        "        prediction = (probs >= 0.5).type(t.LongTensor).view(-1)\n",
        "        train_accuracy = (prediction == Y_train_tensor).type(t.float32).mean().item()\n",
        "\n",
        "        # Calculate accuracy on validation data\n",
        "        probs = model(X_test_tensor)\n",
        "        prediction = (probs >= 0.5).type(t.LongTensor).view(-1)\n",
        "        validation_accuracy = (prediction == Y_test_tensor).type(t.float32).mean().item()\n",
        "\n",
        "        # Print accuracy for the current epoch\n",
        "        print(f'Epoch {epoch}/{epochs} ---> Train Accuracy: {train_accuracy}, Validation Accuracy: {validation_accuracy}')\n",
        "\n",
        "        # Set the model back to train mode\n",
        "        model.train()\n",
        "\n",
        "        # Append accuracy values to lists\n",
        "        train_accuracy_list.append(train_accuracy)\n",
        "        validation_accuracy_list.append(validation_accuracy)\n",
        "\n",
        "    # Calculate and append the average loss for the epoch\n",
        "    train_loss_list.append(sum(per_epoch_loss_list) / len(per_epoch_loss_list))"
      ],
      "metadata": {
        "colab": {
          "base_uri": "https://localhost:8080/"
        },
        "id": "6KRfFM1pbu7Q",
        "outputId": "07a0d27f-8abd-4e64-fa8e-d6c009d718dc"
      },
      "execution_count": null,
      "outputs": [
        {
          "output_type": "stream",
          "name": "stdout",
          "text": [
            "Epoch 0/100 ---> Train Accuracy: 0.8776489496231079, Validation Accuracy: 0.8730751276016235\n",
            "Epoch 1/100 ---> Train Accuracy: 0.8786485195159912, Validation Accuracy: 0.8772748708724976\n",
            "Epoch 2/100 ---> Train Accuracy: 0.8784486055374146, Validation Accuracy: 0.8707419633865356\n",
            "Epoch 3/100 ---> Train Accuracy: 0.8730508089065552, Validation Accuracy: 0.8688753843307495\n",
            "Epoch 4/100 ---> Train Accuracy: 0.8724510073661804, Validation Accuracy: 0.872608482837677\n",
            "Epoch 5/100 ---> Train Accuracy: 0.8668532371520996, Validation Accuracy: 0.8656089305877686\n",
            "Epoch 6/100 ---> Train Accuracy: 0.871051549911499, Validation Accuracy: 0.8707419633865356\n",
            "Epoch 7/100 ---> Train Accuracy: 0.8780487775802612, Validation Accuracy: 0.8744750618934631\n",
            "Epoch 8/100 ---> Train Accuracy: 0.8728508353233337, Validation Accuracy: 0.8712086081504822\n",
            "Epoch 9/100 ---> Train Accuracy: 0.8764494061470032, Validation Accuracy: 0.872608482837677\n",
            "Epoch 10/100 ---> Train Accuracy: 0.8698520660400391, Validation Accuracy: 0.8670088648796082\n",
            "Epoch 11/100 ---> Train Accuracy: 0.8760495781898499, Validation Accuracy: 0.8684087991714478\n",
            "Epoch 12/100 ---> Train Accuracy: 0.8774490356445312, Validation Accuracy: 0.8754082918167114\n",
            "Epoch 13/100 ---> Train Accuracy: 0.8716513514518738, Validation Accuracy: 0.8684087991714478\n",
            "Epoch 14/100 ---> Train Accuracy: 0.870451807975769, Validation Accuracy: 0.8679421544075012\n",
            "Epoch 15/100 ---> Train Accuracy: 0.866053581237793, Validation Accuracy: 0.8618758916854858\n",
            "Epoch 16/100 ---> Train Accuracy: 0.8802478909492493, Validation Accuracy: 0.8740084171295166\n",
            "Epoch 17/100 ---> Train Accuracy: 0.8746501207351685, Validation Accuracy: 0.8656089305877686\n",
            "Epoch 18/100 ---> Train Accuracy: 0.8816473484039307, Validation Accuracy: 0.8777414560317993\n",
            "Epoch 19/100 ---> Train Accuracy: 0.8714514374732971, Validation Accuracy: 0.8730751276016235\n",
            "Epoch 20/100 ---> Train Accuracy: 0.8608556389808655, Validation Accuracy: 0.8581427931785583\n",
            "Epoch 21/100 ---> Train Accuracy: 0.8780487775802612, Validation Accuracy: 0.8735417723655701\n",
            "Epoch 22/100 ---> Train Accuracy: 0.8774490356445312, Validation Accuracy: 0.8805413246154785\n",
            "Epoch 23/100 ---> Train Accuracy: 0.8780487775802612, Validation Accuracy: 0.8786747455596924\n",
            "Epoch 24/100 ---> Train Accuracy: 0.8768492341041565, Validation Accuracy: 0.8716751933097839\n",
            "Epoch 25/100 ---> Train Accuracy: 0.8756497502326965, Validation Accuracy: 0.872608482837677\n",
            "Epoch 26/100 ---> Train Accuracy: 0.8758496642112732, Validation Accuracy: 0.8772748708724976\n",
            "Epoch 27/100 ---> Train Accuracy: 0.8794482350349426, Validation Accuracy: 0.872608482837677\n",
            "Epoch 28/100 ---> Train Accuracy: 0.8732507228851318, Validation Accuracy: 0.8712086081504822\n",
            "Epoch 29/100 ---> Train Accuracy: 0.8774490356445312, Validation Accuracy: 0.8744750618934631\n",
            "Epoch 30/100 ---> Train Accuracy: 0.8794482350349426, Validation Accuracy: 0.8712086081504822\n",
            "Epoch 31/100 ---> Train Accuracy: 0.8720511794090271, Validation Accuracy: 0.8712086081504822\n",
            "Epoch 32/100 ---> Train Accuracy: 0.8712515234947205, Validation Accuracy: 0.8712086081504822\n",
            "Epoch 33/100 ---> Train Accuracy: 0.8756497502326965, Validation Accuracy: 0.8735417723655701\n",
            "Epoch 34/100 ---> Train Accuracy: 0.8754498362541199, Validation Accuracy: 0.8707419633865356\n",
            "Epoch 35/100 ---> Train Accuracy: 0.8708516359329224, Validation Accuracy: 0.8702753186225891\n",
            "Epoch 36/100 ---> Train Accuracy: 0.8776489496231079, Validation Accuracy: 0.8740084171295166\n",
            "Epoch 37/100 ---> Train Accuracy: 0.8770492076873779, Validation Accuracy: 0.8712086081504822\n",
            "Epoch 38/100 ---> Train Accuracy: 0.8702518939971924, Validation Accuracy: 0.869342029094696\n",
            "Epoch 39/100 ---> Train Accuracy: 0.8762494921684265, Validation Accuracy: 0.8702753186225891\n",
            "Epoch 40/100 ---> Train Accuracy: 0.8812475204467773, Validation Accuracy: 0.876808226108551\n",
            "Epoch 41/100 ---> Train Accuracy: 0.8656537532806396, Validation Accuracy: 0.8618758916854858\n",
            "Epoch 42/100 ---> Train Accuracy: 0.8738504648208618, Validation Accuracy: 0.8763415813446045\n",
            "Epoch 43/100 ---> Train Accuracy: 0.8774490356445312, Validation Accuracy: 0.8712086081504822\n",
            "Epoch 44/100 ---> Train Accuracy: 0.8732507228851318, Validation Accuracy: 0.8749416470527649\n",
            "Epoch 45/100 ---> Train Accuracy: 0.8714514374732971, Validation Accuracy: 0.8707419633865356\n",
            "Epoch 46/100 ---> Train Accuracy: 0.8764494061470032, Validation Accuracy: 0.8707419633865356\n",
            "Epoch 47/100 ---> Train Accuracy: 0.8740503787994385, Validation Accuracy: 0.8712086081504822\n",
            "Epoch 48/100 ---> Train Accuracy: 0.8770492076873779, Validation Accuracy: 0.8782081007957458\n",
            "Epoch 49/100 ---> Train Accuracy: 0.8742502927780151, Validation Accuracy: 0.8740084171295166\n",
            "Epoch 50/100 ---> Train Accuracy: 0.866053581237793, Validation Accuracy: 0.8628091216087341\n",
            "Epoch 51/100 ---> Train Accuracy: 0.8754498362541199, Validation Accuracy: 0.8712086081504822\n",
            "Epoch 52/100 ---> Train Accuracy: 0.8750500082969666, Validation Accuracy: 0.8656089305877686\n",
            "Epoch 53/100 ---> Train Accuracy: 0.879248321056366, Validation Accuracy: 0.8702753186225891\n",
            "Epoch 54/100 ---> Train Accuracy: 0.879248321056366, Validation Accuracy: 0.872608482837677\n",
            "Epoch 55/100 ---> Train Accuracy: 0.8782486915588379, Validation Accuracy: 0.8707419633865356\n",
            "Epoch 56/100 ---> Train Accuracy: 0.8742502927780151, Validation Accuracy: 0.8749416470527649\n",
            "Epoch 57/100 ---> Train Accuracy: 0.8732507228851318, Validation Accuracy: 0.869342029094696\n",
            "Epoch 58/100 ---> Train Accuracy: 0.8778488636016846, Validation Accuracy: 0.8721418380737305\n",
            "Epoch 59/100 ---> Train Accuracy: 0.871051549911499, Validation Accuracy: 0.8670088648796082\n",
            "Epoch 60/100 ---> Train Accuracy: 0.8744502067565918, Validation Accuracy: 0.8721418380737305\n",
            "Epoch 61/100 ---> Train Accuracy: 0.8778488636016846, Validation Accuracy: 0.8730751276016235\n",
            "Epoch 62/100 ---> Train Accuracy: 0.8782486915588379, Validation Accuracy: 0.8730751276016235\n",
            "Epoch 63/100 ---> Train Accuracy: 0.8742502927780151, Validation Accuracy: 0.8684087991714478\n",
            "Epoch 64/100 ---> Train Accuracy: 0.8698520660400391, Validation Accuracy: 0.8651423454284668\n",
            "Epoch 65/100 ---> Train Accuracy: 0.881447434425354, Validation Accuracy: 0.8749416470527649\n",
            "Epoch 66/100 ---> Train Accuracy: 0.8696521520614624, Validation Accuracy: 0.8642090559005737\n",
            "Epoch 67/100 ---> Train Accuracy: 0.8804478049278259, Validation Accuracy: 0.872608482837677\n",
            "Epoch 68/100 ---> Train Accuracy: 0.8780487775802612, Validation Accuracy: 0.8754082918167114\n",
            "Epoch 69/100 ---> Train Accuracy: 0.8776489496231079, Validation Accuracy: 0.8754082918167114\n",
            "Epoch 70/100 ---> Train Accuracy: 0.8812475204467773, Validation Accuracy: 0.8754082918167114\n",
            "Epoch 71/100 ---> Train Accuracy: 0.8744502067565918, Validation Accuracy: 0.8716751933097839\n",
            "Epoch 72/100 ---> Train Accuracy: 0.8698520660400391, Validation Accuracy: 0.8674755096435547\n",
            "Epoch 73/100 ---> Train Accuracy: 0.8772491216659546, Validation Accuracy: 0.8763415813446045\n",
            "Epoch 74/100 ---> Train Accuracy: 0.8758496642112732, Validation Accuracy: 0.8754082918167114\n",
            "Epoch 75/100 ---> Train Accuracy: 0.8730508089065552, Validation Accuracy: 0.8670088648796082\n",
            "Epoch 76/100 ---> Train Accuracy: 0.8766493201255798, Validation Accuracy: 0.869342029094696\n",
            "Epoch 77/100 ---> Train Accuracy: 0.8796481490135193, Validation Accuracy: 0.8698086738586426\n",
            "Epoch 78/100 ---> Train Accuracy: 0.8746501207351685, Validation Accuracy: 0.8735417723655701\n",
            "Epoch 79/100 ---> Train Accuracy: 0.879248321056366, Validation Accuracy: 0.8754082918167114\n",
            "Epoch 80/100 ---> Train Accuracy: 0.8786485195159912, Validation Accuracy: 0.8679421544075012\n",
            "Epoch 81/100 ---> Train Accuracy: 0.8698520660400391, Validation Accuracy: 0.8679421544075012\n",
            "Epoch 82/100 ---> Train Accuracy: 0.8750500082969666, Validation Accuracy: 0.8716751933097839\n",
            "Epoch 83/100 ---> Train Accuracy: 0.8778488636016846, Validation Accuracy: 0.8735417723655701\n",
            "Epoch 84/100 ---> Train Accuracy: 0.8776489496231079, Validation Accuracy: 0.8735417723655701\n",
            "Epoch 85/100 ---> Train Accuracy: 0.8780487775802612, Validation Accuracy: 0.8712086081504822\n",
            "Epoch 86/100 ---> Train Accuracy: 0.8738504648208618, Validation Accuracy: 0.8721418380737305\n",
            "Epoch 87/100 ---> Train Accuracy: 0.8762494921684265, Validation Accuracy: 0.8730751276016235\n",
            "Epoch 88/100 ---> Train Accuracy: 0.8762494921684265, Validation Accuracy: 0.8772748708724976\n",
            "Epoch 89/100 ---> Train Accuracy: 0.8744502067565918, Validation Accuracy: 0.872608482837677\n",
            "Epoch 90/100 ---> Train Accuracy: 0.8790484070777893, Validation Accuracy: 0.8721418380737305\n",
            "Epoch 91/100 ---> Train Accuracy: 0.8800479769706726, Validation Accuracy: 0.8744750618934631\n",
            "Epoch 92/100 ---> Train Accuracy: 0.8712515234947205, Validation Accuracy: 0.8632757663726807\n",
            "Epoch 93/100 ---> Train Accuracy: 0.8772491216659546, Validation Accuracy: 0.8730751276016235\n",
            "Epoch 94/100 ---> Train Accuracy: 0.8800479769706726, Validation Accuracy: 0.8744750618934631\n",
            "Epoch 95/100 ---> Train Accuracy: 0.8788484334945679, Validation Accuracy: 0.8735417723655701\n",
            "Epoch 96/100 ---> Train Accuracy: 0.8796481490135193, Validation Accuracy: 0.8735417723655701\n",
            "Epoch 97/100 ---> Train Accuracy: 0.8706517219543457, Validation Accuracy: 0.8679421544075012\n",
            "Epoch 98/100 ---> Train Accuracy: 0.8662534952163696, Validation Accuracy: 0.8614092469215393\n",
            "Epoch 99/100 ---> Train Accuracy: 0.8748500347137451, Validation Accuracy: 0.8740084171295166\n"
          ]
        }
      ]
    },
    {
      "cell_type": "code",
      "source": [
        "# Plot training and validation accuracy over epochs\n",
        "plt.plot([i for i in range(len(train_accuracy_list))], train_accuracy_list, label=\"Train\")\n",
        "plt.plot([i for i in range(len(validation_accuracy_list))], validation_accuracy_list, label=\"Validation\")\n",
        "plt.legend(loc=\"upper left\")\n",
        "plt.xlabel('Epochs')\n",
        "plt.ylabel('Accuracy')\n",
        "plt.show()"
      ],
      "metadata": {
        "colab": {
          "base_uri": "https://localhost:8080/",
          "height": 449
        },
        "id": "138FIwiycGsM",
        "outputId": "4b57285d-1bf0-42ec-d524-56d7350bac39"
      },
      "execution_count": null,
      "outputs": [
        {
          "output_type": "display_data",
          "data": {
            "text/plain": [
              "<Figure size 640x480 with 1 Axes>"
            ],
            "image/png": "[encoded data removed]"
          },
          "metadata": {}
        }
      ]
    }
  ]
}